{
  "nbformat": 4,
  "nbformat_minor": 0,
  "metadata": {
    "colab": {
      "provenance": [],
      "authorship_tag": "ABX9TyOwzZUiigNBPT2u0ItQhXJl",
      "include_colab_link": true
    },
    "kernelspec": {
      "name": "python3",
      "display_name": "Python 3"
    },
    "language_info": {
      "name": "python"
    }
  },
  "cells": [
    {
      "cell_type": "markdown",
      "metadata": {
        "id": "view-in-github",
        "colab_type": "text"
      },
      "source": [
        "<a href=\"https://colab.research.google.com/github/majaturkalj/python-journey/blob/main/04_LISTS_Python_for_GIS.ipynb\" target=\"_parent\"><img src=\"https://colab.research.google.com/assets/colab-badge.svg\" alt=\"Open In Colab\"/></a>"
      ]
    },
    {
      "cell_type": "code",
      "execution_count": 1,
      "metadata": {
        "id": "fYXqbzHN2zhx"
      },
      "outputs": [],
      "source": [
        "## 04. LISTS\n",
        "################################################################################\n",
        "## LISTS\n",
        "##  Lists are fundamental to GIS workflows with Python\n",
        "##  Lists are ordered and mutable collections of elements, allowing for the\n",
        "##  storage and manipulation of multiple values within a single variable.\n",
        "##  List index begins at zero.\n",
        "##  They can contain different objects.\n",
        "##  A list can contain a mixture of strings, numbers, and other lists for example.\n",
        "##\n",
        "################################################################################"
      ]
    },
    {
      "cell_type": "code",
      "source": [
        "## 04.01 CREATING A LIST\n",
        "################################################################################\n",
        "## DECLARING A LIST VARIABLE\n",
        "\n",
        "## empty list\n",
        "empty_list = []\n",
        "print(empty_list)"
      ],
      "metadata": {
        "colab": {
          "base_uri": "https://localhost:8080/"
        },
        "id": "skyGrImA4aKb",
        "outputId": "c2efaa44-85b0-4db4-d3f9-9a1a6a8e295b"
      },
      "execution_count": 2,
      "outputs": [
        {
          "output_type": "stream",
          "name": "stdout",
          "text": [
            "[]\n"
          ]
        }
      ]
    },
    {
      "cell_type": "code",
      "source": [
        "empty_list = list()\n",
        "print(empty_list)"
      ],
      "metadata": {
        "colab": {
          "base_uri": "https://localhost:8080/"
        },
        "id": "ZYWihYRn4paX",
        "outputId": "0da2ece5-d277-4e09-ca6f-842f1af84c7f"
      },
      "execution_count": 3,
      "outputs": [
        {
          "output_type": "stream",
          "name": "stdout",
          "text": [
            "[]\n"
          ]
        }
      ]
    },
    {
      "cell_type": "code",
      "source": [
        "country_list = [\"Ireland\", \"USA\", \"Germany\", \"Colombia\", \"Japan\", \"Ghana\"]\n",
        "print(country_list)"
      ],
      "metadata": {
        "colab": {
          "base_uri": "https://localhost:8080/"
        },
        "id": "Tv9iHxji4t_G",
        "outputId": "007a4c37-aef2-42cf-97c5-1ae082cda0fa"
      },
      "execution_count": 4,
      "outputs": [
        {
          "output_type": "stream",
          "name": "stdout",
          "text": [
            "['Ireland', 'USA', 'Germany', 'Colombia', 'Japan', 'Ghana']\n"
          ]
        }
      ]
    },
    {
      "cell_type": "code",
      "source": [
        "population_list = list[2500, 1500000, 19000000]\n",
        "print(population_list)"
      ],
      "metadata": {
        "colab": {
          "base_uri": "https://localhost:8080/"
        },
        "id": "vYt4Qbp_4w2j",
        "outputId": "e6cee199-9a7a-4b9f-a6af-08e7c8d51627"
      },
      "execution_count": 5,
      "outputs": [
        {
          "output_type": "stream",
          "name": "stdout",
          "text": [
            "list[2500, 1500000, 19000000]\n"
          ]
        }
      ]
    },
    {
      "cell_type": "code",
      "source": [
        "mixed_list = [\"GIS\", 10, True, 15.76, [\"1\", 2, False]]\n",
        "print(mixed_list)"
      ],
      "metadata": {
        "colab": {
          "base_uri": "https://localhost:8080/"
        },
        "id": "SmA3sx7E4zlC",
        "outputId": "12fa71d7-d93e-49fb-b018-80019a5c30b6"
      },
      "execution_count": 6,
      "outputs": [
        {
          "output_type": "stream",
          "name": "stdout",
          "text": [
            "['GIS', 10, True, 15.76, ['1', 2, False]]\n"
          ]
        }
      ]
    },
    {
      "cell_type": "code",
      "source": [
        "################################################################################\n",
        "## CASTING AN ITERABLE TO A LIST\n",
        "text = \"geospatial\"\n",
        "letter_list = list(text)\n",
        "print(letter_list)"
      ],
      "metadata": {
        "colab": {
          "base_uri": "https://localhost:8080/"
        },
        "id": "3JaLS-XI42jp",
        "outputId": "59063028-71cd-4817-df46-09ea75bdc6d0"
      },
      "execution_count": 7,
      "outputs": [
        {
          "output_type": "stream",
          "name": "stdout",
          "text": [
            "['g', 'e', 'o', 's', 'p', 'a', 't', 'i', 'a', 'l']\n"
          ]
        }
      ]
    },
    {
      "cell_type": "code",
      "source": [
        "## 04.02 INDEXING AND SLICING A LIST\n",
        "################################################################################\n",
        "## LIST SLICING\n",
        "##  Return a specific element of a list or a targeted sliced subsection of\n",
        "##  elements returned as a list.\n",
        "##\n",
        "################################################################################"
      ],
      "metadata": {
        "id": "U-VlRdvyAbU7"
      },
      "execution_count": null,
      "outputs": []
    },
    {
      "cell_type": "code",
      "source": [
        "country_list = [\"Ireland\", \"USA\", \"Germany\", \"Colombia\", \"Japan\", \"Ghana\"]\n",
        "################################################################################\n",
        "## select and individual elements\n",
        "\n",
        "## forward indexing\n",
        "print(country_list[0])\n",
        "print(country_list[2])\n",
        "print(country_list[5])"
      ],
      "metadata": {
        "colab": {
          "base_uri": "https://localhost:8080/"
        },
        "id": "-VKqB3HNAipP",
        "outputId": "da533ef5-6710-4b00-a34e-266e15893942"
      },
      "execution_count": 8,
      "outputs": [
        {
          "output_type": "stream",
          "name": "stdout",
          "text": [
            "Ireland\n",
            "Germany\n",
            "Ghana\n"
          ]
        }
      ]
    },
    {
      "cell_type": "code",
      "source": [
        "## backwards indexing\n",
        "print(country_list[-1])\n",
        "print(country_list[-2])\n",
        "print(country_list[-6])"
      ],
      "metadata": {
        "colab": {
          "base_uri": "https://localhost:8080/"
        },
        "id": "mqzfkDcTCJzq",
        "outputId": "1d5d83f3-9ad7-4ec5-9dc6-7354a1b65474"
      },
      "execution_count": 9,
      "outputs": [
        {
          "output_type": "stream",
          "name": "stdout",
          "text": [
            "Ghana\n",
            "Japan\n",
            "Ireland\n"
          ]
        }
      ]
    },
    {
      "cell_type": "code",
      "source": [
        "################################################################################\n",
        "## subset of list via slicing\n",
        "print(country_list[1:4])\n"
      ],
      "metadata": {
        "colab": {
          "base_uri": "https://localhost:8080/"
        },
        "id": "-dqml0bcCM6X",
        "outputId": "ed5e08cc-85db-4b1d-e489-8ae0bad2a91f"
      },
      "execution_count": 10,
      "outputs": [
        {
          "output_type": "stream",
          "name": "stdout",
          "text": [
            "['USA', 'Germany', 'Colombia']\n"
          ]
        }
      ]
    },
    {
      "cell_type": "code",
      "source": [
        "print(country_list[:])\n"
      ],
      "metadata": {
        "colab": {
          "base_uri": "https://localhost:8080/"
        },
        "id": "59nTkTwWC6_w",
        "outputId": "da389199-8da3-4f76-f088-7718963bd258"
      },
      "execution_count": 11,
      "outputs": [
        {
          "output_type": "stream",
          "name": "stdout",
          "text": [
            "['Ireland', 'USA', 'Germany', 'Colombia', 'Japan', 'Ghana']\n"
          ]
        }
      ]
    },
    {
      "cell_type": "code",
      "source": [
        "print(country_list[:4])"
      ],
      "metadata": {
        "colab": {
          "base_uri": "https://localhost:8080/"
        },
        "id": "g0qbAul9C__Y",
        "outputId": "2b011da2-7116-4dd9-ccbc-a1bdc400e81b"
      },
      "execution_count": 12,
      "outputs": [
        {
          "output_type": "stream",
          "name": "stdout",
          "text": [
            "['Ireland', 'USA', 'Germany', 'Colombia']\n"
          ]
        }
      ]
    },
    {
      "cell_type": "code",
      "source": [
        "print(country_list[2:])"
      ],
      "metadata": {
        "colab": {
          "base_uri": "https://localhost:8080/"
        },
        "id": "coZYdkB1DGaY",
        "outputId": "edbac354-9405-4735-9eb6-6148b27be793"
      },
      "execution_count": 13,
      "outputs": [
        {
          "output_type": "stream",
          "name": "stdout",
          "text": [
            "['Germany', 'Colombia', 'Japan', 'Ghana']\n"
          ]
        }
      ]
    },
    {
      "cell_type": "code",
      "source": [
        "###############################################################################\n",
        "## stepping\n",
        "num_list = [1,2,3,4,5,6,7,8,9,10]\n",
        "print(num_list[::2])"
      ],
      "metadata": {
        "colab": {
          "base_uri": "https://localhost:8080/"
        },
        "id": "59mNLk4wDLS2",
        "outputId": "ad219cfa-2a64-468e-9cd8-b73d0c26965f"
      },
      "execution_count": 14,
      "outputs": [
        {
          "output_type": "stream",
          "name": "stdout",
          "text": [
            "[1, 3, 5, 7, 9]\n"
          ]
        }
      ]
    },
    {
      "cell_type": "code",
      "source": [
        "## What happens if you enter an index greater than the length of the list\n",
        "## minus one?\n",
        "print(len(num_list))\n"
      ],
      "metadata": {
        "colab": {
          "base_uri": "https://localhost:8080/"
        },
        "id": "Q6D2emLkD7RG",
        "outputId": "573905cc-ed3a-4009-ab22-643fcae7bf8c"
      },
      "execution_count": 19,
      "outputs": [
        {
          "output_type": "stream",
          "name": "stdout",
          "text": [
            "10\n"
          ]
        }
      ]
    },
    {
      "cell_type": "code",
      "source": [
        "print(num_list[len(num_list)]) # needs to be len(num_list) - 1\n",
        "##IndexError: list index out of range"
      ],
      "metadata": {
        "id": "BsCjVhu5NA5U"
      },
      "execution_count": null,
      "outputs": []
    },
    {
      "cell_type": "code",
      "source": [
        "## 04.03 LIST MUTABILITY\n",
        "################################################################################\n",
        "##  Lists are mutable meaning you can alter a list in place. This is different\n",
        "##  in comparison to a string where we had to overwrite the original variable\n",
        "##  for an alteration to persist. With lists, any alteration occurs and\n",
        "##  persists for the original variable.\n",
        "##\n",
        "## Lists can be modified after creation, allowing operations such as appending,\n",
        "## removing, or changing elements.\n",
        "################################################################################"
      ],
      "metadata": {
        "id": "vQqPj9f-RUdm"
      },
      "execution_count": null,
      "outputs": []
    },
    {
      "cell_type": "code",
      "source": [
        "country_list = [\"Ireland\", \"USA\", \"Germany\", \"Colombia\", \"Japan\", \"Ghana\"]\n",
        "################################################################################\n",
        "## alter an element value\n",
        "\n",
        "country_list[0] = \"Denmark\"\n",
        "print(country_list)"
      ],
      "metadata": {
        "colab": {
          "base_uri": "https://localhost:8080/"
        },
        "id": "WtqRBE8FSnma",
        "outputId": "8513497d-aea9-49c9-f493-0e0a2d7e242c"
      },
      "execution_count": 21,
      "outputs": [
        {
          "output_type": "stream",
          "name": "stdout",
          "text": [
            "['Denmark', 'USA', 'Germany', 'Colombia', 'Japan', 'Ghana']\n"
          ]
        }
      ]
    },
    {
      "cell_type": "code",
      "source": [
        "country_list[-2] = \"Malaysia\"\n",
        "print(country_list)"
      ],
      "metadata": {
        "colab": {
          "base_uri": "https://localhost:8080/"
        },
        "id": "hB57wdybS_v1",
        "outputId": "30599b8f-bc1c-41e2-a1a7-f5ecb93451ad"
      },
      "execution_count": 22,
      "outputs": [
        {
          "output_type": "stream",
          "name": "stdout",
          "text": [
            "['Denmark', 'USA', 'Germany', 'Colombia', 'Malaysia', 'Ghana']\n"
          ]
        }
      ]
    },
    {
      "cell_type": "code",
      "source": [
        "################################################################################\n",
        "## alter using list methods\n",
        "\n",
        "country_list.append(\"Mexico\")\n",
        "print(country_list)"
      ],
      "metadata": {
        "colab": {
          "base_uri": "https://localhost:8080/"
        },
        "id": "mrXRhD4hTFLw",
        "outputId": "cea49001-77a9-43af-9f09-ce32e619ef83"
      },
      "execution_count": 23,
      "outputs": [
        {
          "output_type": "stream",
          "name": "stdout",
          "text": [
            "['Denmark', 'USA', 'Germany', 'Colombia', 'Malaysia', 'Ghana', 'Mexico']\n"
          ]
        }
      ]
    },
    {
      "cell_type": "code",
      "source": [
        "country_list.remove(\"Germany\")\n",
        "print(country_list)"
      ],
      "metadata": {
        "colab": {
          "base_uri": "https://localhost:8080/"
        },
        "id": "DYVjSa_yTM5h",
        "outputId": "ff807c3a-24f6-4034-9d7c-d3e8cf09f351"
      },
      "execution_count": 24,
      "outputs": [
        {
          "output_type": "stream",
          "name": "stdout",
          "text": [
            "['Denmark', 'USA', 'Colombia', 'Malaysia', 'Ghana', 'Mexico']\n"
          ]
        }
      ]
    },
    {
      "cell_type": "code",
      "source": [
        "################################################################################\n",
        "## extend a list with concatenation - doesnt alter, needs to reassigned\n",
        "country_list + [\"France\", \"Canada\"]\n",
        "print(country_list)"
      ],
      "metadata": {
        "colab": {
          "base_uri": "https://localhost:8080/"
        },
        "id": "ssQ5F4y2TS87",
        "outputId": "1cef58f9-173c-41ce-b04e-80ec1f51c23f"
      },
      "execution_count": 25,
      "outputs": [
        {
          "output_type": "stream",
          "name": "stdout",
          "text": [
            "['Denmark', 'USA', 'Colombia', 'Malaysia', 'Ghana', 'Mexico']\n"
          ]
        }
      ]
    },
    {
      "cell_type": "code",
      "source": [
        "country_list = country_list + [\"France\", \"Canada\"]\n",
        "print(country_list)"
      ],
      "metadata": {
        "colab": {
          "base_uri": "https://localhost:8080/"
        },
        "id": "d5zdJY5jTcOl",
        "outputId": "fd515128-753a-485c-8a83-4405fa2e1a74"
      },
      "execution_count": 26,
      "outputs": [
        {
          "output_type": "stream",
          "name": "stdout",
          "text": [
            "['Denmark', 'USA', 'Colombia', 'Malaysia', 'Ghana', 'Mexico', 'France', 'Canada']\n"
          ]
        }
      ]
    },
    {
      "cell_type": "code",
      "source": [
        "country_list += [\"Nigeria\", \"Fiji\"]\n",
        "print(country_list)"
      ],
      "metadata": {
        "colab": {
          "base_uri": "https://localhost:8080/"
        },
        "id": "9jDwYM26ThCW",
        "outputId": "ba061903-a59d-43b9-c4c0-e3f4055e0d0b"
      },
      "execution_count": 27,
      "outputs": [
        {
          "output_type": "stream",
          "name": "stdout",
          "text": [
            "['Denmark', 'USA', 'Colombia', 'Malaysia', 'Ghana', 'Mexico', 'France', 'Canada', 'Nigeria', 'Fiji']\n"
          ]
        }
      ]
    },
    {
      "cell_type": "code",
      "source": [
        "## 04.04 NESTED LISTS\n",
        "################################################################################\n",
        "##  A list can contain nested lists. A list can contain multiple list and this\n",
        "##  functionality lends itself well to GIS when it comes to defining\n",
        "##  features (records) and their attribute values and geometry.\n",
        "##\n",
        "################################################################################"
      ],
      "metadata": {
        "id": "_C1lz-K2VVJc"
      },
      "execution_count": null,
      "outputs": []
    },
    {
      "cell_type": "code",
      "source": [
        "## create a list of lists\n",
        "feature_1 = [\"Ireland\", \"Dublin\", 6500000, \"Geom\"]\n",
        "feature_2 = [\"England\", \"London\", 9650000, \"Geom\"]\n",
        "feature_3 = [\"France\", \"Paris\", 11200000, \"Geom\"]\n",
        "\n",
        "all_features = [feature_1, feature_2, feature_3]\n",
        "\n",
        "print(all_features)"
      ],
      "metadata": {
        "colab": {
          "base_uri": "https://localhost:8080/"
        },
        "id": "1jbpPFFgVd6G",
        "outputId": "b66a01ff-cc54-408f-df34-6f1eaa3b86f1"
      },
      "execution_count": 28,
      "outputs": [
        {
          "output_type": "stream",
          "name": "stdout",
          "text": [
            "[['Ireland', 'Dublin', 6500000, 'Geom'], ['England', 'London', 9650000, 'Geom'], ['France', 'Paris', 11200000, 'Geom']]\n"
          ]
        }
      ]
    },
    {
      "cell_type": "code",
      "source": [
        "## accessing indivual lists\n",
        "print(all_features[0])\n",
        "print(all_features[-2])"
      ],
      "metadata": {
        "colab": {
          "base_uri": "https://localhost:8080/"
        },
        "id": "HN3XxrWUWgpE",
        "outputId": "69c8d400-8157-48af-e9af-981fba43e24a"
      },
      "execution_count": 29,
      "outputs": [
        {
          "output_type": "stream",
          "name": "stdout",
          "text": [
            "['Ireland', 'Dublin', 6500000, 'Geom']\n",
            "['England', 'London', 9650000, 'Geom']\n"
          ]
        }
      ]
    },
    {
      "cell_type": "code",
      "source": [
        "## accessing indivual elements of a nested list\n",
        "print(all_features[0][1])\n",
        "print(all_features[-2][2])"
      ],
      "metadata": {
        "colab": {
          "base_uri": "https://localhost:8080/"
        },
        "id": "poSDuY7SWoRE",
        "outputId": "55918d5f-f2c8-4c66-d0a6-60f582d63c60"
      },
      "execution_count": 30,
      "outputs": [
        {
          "output_type": "stream",
          "name": "stdout",
          "text": [
            "Dublin\n",
            "9650000\n"
          ]
        }
      ]
    },
    {
      "cell_type": "code",
      "source": [
        "## CHALENGE\n",
        "my_list = [[0,1,2,[3,4,5,[6,7,8]]], [9,[10,11,13,[14,14,16]],17,18]]\n",
        "## start by printing the elements in the outer-most list\n",
        "print(my_list[0])"
      ],
      "metadata": {
        "colab": {
          "base_uri": "https://localhost:8080/"
        },
        "id": "C-YsEl9badTN",
        "outputId": "0bee2b78-69f6-44c3-ce85-0d4115b8642c"
      },
      "execution_count": 31,
      "outputs": [
        {
          "output_type": "stream",
          "name": "stdout",
          "text": [
            "[0, 1, 2, [3, 4, 5, [6, 7, 8]]]\n"
          ]
        }
      ]
    },
    {
      "cell_type": "code",
      "source": [
        "print(my_list[1])"
      ],
      "metadata": {
        "colab": {
          "base_uri": "https://localhost:8080/"
        },
        "id": "zSSi6TCNa2hp",
        "outputId": "7a54e15f-62cb-4e40-ce83-b88c53da8098"
      },
      "execution_count": 32,
      "outputs": [
        {
          "output_type": "stream",
          "name": "stdout",
          "text": [
            "[9, [10, 11, 13, [14, 14, 16]], 17, 18]\n"
          ]
        }
      ]
    },
    {
      "cell_type": "code",
      "source": [
        "## access the nested list of the first element\n",
        "print(my_list[0][3])"
      ],
      "metadata": {
        "colab": {
          "base_uri": "https://localhost:8080/"
        },
        "id": "1S9g6hBba9m0",
        "outputId": "42e0ffb4-5c52-4850-a512-fb4586d26f07"
      },
      "execution_count": 34,
      "outputs": [
        {
          "output_type": "stream",
          "name": "stdout",
          "text": [
            "[3, 4, 5, [6, 7, 8]]\n"
          ]
        }
      ]
    },
    {
      "cell_type": "code",
      "source": [
        "## access the nested list of the second element\n",
        "print(my_list[1][1])"
      ],
      "metadata": {
        "colab": {
          "base_uri": "https://localhost:8080/"
        },
        "id": "0vhjmRI4cBaf",
        "outputId": "f47bce28-1407-41ef-ff52-fea652f840b1"
      },
      "execution_count": 35,
      "outputs": [
        {
          "output_type": "stream",
          "name": "stdout",
          "text": [
            "[10, 11, 13, [14, 14, 16]]\n"
          ]
        }
      ]
    },
    {
      "cell_type": "code",
      "source": [
        "## access the nested list of the nested list in the first element\n",
        "print(my_list[0][3][3])\n",
        "print(my_list[1][1][3])"
      ],
      "metadata": {
        "colab": {
          "base_uri": "https://localhost:8080/"
        },
        "id": "Ow1nqX3lcS6V",
        "outputId": "485119ab-c699-496e-87e7-0bbff91af441"
      },
      "execution_count": 36,
      "outputs": [
        {
          "output_type": "stream",
          "name": "stdout",
          "text": [
            "[6, 7, 8]\n",
            "[14, 14, 16]\n"
          ]
        }
      ]
    },
    {
      "cell_type": "code",
      "source": [
        "## access the second element of nested list of the nested list in the first element\n",
        "print(my_list[0][3][3][1])\n",
        "print(my_list[1][1][3][1])"
      ],
      "metadata": {
        "colab": {
          "base_uri": "https://localhost:8080/"
        },
        "id": "fSRuxBztcgKy",
        "outputId": "9a5004d4-c723-4180-b674-8d6167eff072"
      },
      "execution_count": 38,
      "outputs": [
        {
          "output_type": "stream",
          "name": "stdout",
          "text": [
            "7\n",
            "14\n"
          ]
        }
      ]
    },
    {
      "cell_type": "code",
      "source": [
        "## 04.05 LENGTH & MEMBERSHIP\n",
        "################################################################################\n",
        "##  Always remember that the maximum positiional index is the length of the list\n",
        "##  minus one. The length of a list in Python refers to the number of elements\n",
        "##  contained within the list.\n",
        "##  Check membership with in or not in\n",
        "################################################################################"
      ],
      "metadata": {
        "id": "n1ftX-5JuqZl"
      },
      "execution_count": null,
      "outputs": []
    },
    {
      "cell_type": "code",
      "source": [
        "country_list = [\"Ireland\", \"USA\", \"Germany\", \"Colombia\", \"Japan\", \"Ghana\"]\n",
        "empty_list = []\n",
        "\n",
        "print(len(country_list))\n",
        "print(len(empty_list))"
      ],
      "metadata": {
        "colab": {
          "base_uri": "https://localhost:8080/"
        },
        "id": "tAAsSLxxvHoq",
        "outputId": "47382595-a7c5-431d-f842-33677f3cb8be"
      },
      "execution_count": 39,
      "outputs": [
        {
          "output_type": "stream",
          "name": "stdout",
          "text": [
            "6\n",
            "0\n"
          ]
        }
      ]
    },
    {
      "cell_type": "code",
      "source": [
        "## length is dynamic - if we add or remove an element the length of the list\n",
        "## reflects this change.\n",
        "country_list.append(\"Vietnam\")\n",
        "\n",
        "print(country_list)\n",
        "print(len(country_list))"
      ],
      "metadata": {
        "colab": {
          "base_uri": "https://localhost:8080/"
        },
        "id": "oqL0zXWRwDcK",
        "outputId": "3f99c5b1-24f9-4af9-b423-f06263999454"
      },
      "execution_count": 46,
      "outputs": [
        {
          "output_type": "stream",
          "name": "stdout",
          "text": [
            "['Ireland', 'USA', 'Germany', 'Colombia', 'Japan', 'Ghana', 'Vietnam']\n",
            "7\n"
          ]
        }
      ]
    },
    {
      "cell_type": "code",
      "source": [
        "## you can always access the last element with length of list minus one\n",
        "index = len(country_list) - 1\n",
        "print(country_list[index])"
      ],
      "metadata": {
        "colab": {
          "base_uri": "https://localhost:8080/"
        },
        "id": "NTXNGLLU36Yf",
        "outputId": "0a7a92a9-b74f-4fff-bdac-bb500947bb15"
      },
      "execution_count": 47,
      "outputs": [
        {
          "output_type": "stream",
          "name": "stdout",
          "text": [
            "Vietnam\n"
          ]
        }
      ]
    },
    {
      "cell_type": "code",
      "source": [
        "## length is per object\n",
        "my_list = [[1,2], [3,4,5,6]]\n",
        "\n",
        "print(len(my_list))"
      ],
      "metadata": {
        "colab": {
          "base_uri": "https://localhost:8080/"
        },
        "id": "f8dSwEi04hwz",
        "outputId": "ba5e0cf1-3a03-4090-888d-c59b93fb3c18"
      },
      "execution_count": 49,
      "outputs": [
        {
          "output_type": "stream",
          "name": "stdout",
          "text": [
            "2\n"
          ]
        }
      ]
    },
    {
      "cell_type": "code",
      "source": [
        "## check membership with 'in' keyword\n",
        "print(\"Ireland\" in country_list)\n",
        "\n",
        "country = \"Jamaica\"\n",
        "print(country in country_list)"
      ],
      "metadata": {
        "colab": {
          "base_uri": "https://localhost:8080/"
        },
        "id": "ptLEwQRs_p41",
        "outputId": "27136eb9-c696-4045-f024-4816513f390a"
      },
      "execution_count": 50,
      "outputs": [
        {
          "output_type": "stream",
          "name": "stdout",
          "text": [
            "True\n",
            "False\n"
          ]
        }
      ]
    },
    {
      "cell_type": "code",
      "source": [
        "## check membership with 'not in' keywords\n",
        "print(\"Ireland\" not in country_list)\n",
        "print(country not in country_list)"
      ],
      "metadata": {
        "colab": {
          "base_uri": "https://localhost:8080/"
        },
        "id": "xjjudReF_5aA",
        "outputId": "686d9ee8-0533-46a0-8dd3-bdd04d7328e3"
      },
      "execution_count": 51,
      "outputs": [
        {
          "output_type": "stream",
          "name": "stdout",
          "text": [
            "False\n",
            "True\n"
          ]
        }
      ]
    },
    {
      "cell_type": "code",
      "source": [
        "## 04.06 UNPACKING A LIST\n",
        "################################################################################\n",
        "##  Unpacking a list in Python refers to the process of extracting elements\n",
        "##  from a list and assigning them to individual variables\n",
        "################################################################################"
      ],
      "metadata": {
        "id": "QhK08WR7GBw8"
      },
      "execution_count": null,
      "outputs": []
    },
    {
      "cell_type": "code",
      "source": [
        "## Basic Unpacking\n",
        "country_list = [\"Ireland\", \"USA\", \"Germany\"]\n",
        "ire, usa, ger = country_list\n",
        "print(ire)\n",
        "print(usa)\n",
        "print(ger)"
      ],
      "metadata": {
        "colab": {
          "base_uri": "https://localhost:8080/"
        },
        "id": "eU73XyOSGIXo",
        "outputId": "83f8454a-3fe9-4423-8b02-c83820732437"
      },
      "execution_count": 52,
      "outputs": [
        {
          "output_type": "stream",
          "name": "stdout",
          "text": [
            "Ireland\n",
            "USA\n",
            "Germany\n"
          ]
        }
      ]
    },
    {
      "cell_type": "code",
      "source": [
        "## what happens if the variables are less or more than the list length?\n",
        "\n",
        "## ValueError: too many values to unpack (expected X)\n",
        "##ire, usa = country_list\n",
        "\n",
        "## ValueError: not enough values to unpack (expected X, got X)\n",
        "##ire, usa, ger, col = country_list"
      ],
      "metadata": {
        "id": "MJYwzPVXGuVy"
      },
      "execution_count": null,
      "outputs": []
    },
    {
      "cell_type": "code",
      "source": [
        "## slighly more advanced unpdacking\n",
        "country_list = [\"Ireland\", \"USA\", \"Germany\", \"Colombia\", \"Japan\", \"Ghana\"]\n",
        "ire, usa, *other = country_list\n",
        "print(ire)\n",
        "print(usa)\n",
        "print(other)"
      ],
      "metadata": {
        "colab": {
          "base_uri": "https://localhost:8080/"
        },
        "id": "ELixZJjmGwEy",
        "outputId": "817c090c-5c4b-44e5-85cb-fc2396e8a3a4"
      },
      "execution_count": 53,
      "outputs": [
        {
          "output_type": "stream",
          "name": "stdout",
          "text": [
            "Ireland\n",
            "USA\n",
            "['Germany', 'Colombia', 'Japan', 'Ghana']\n"
          ]
        }
      ]
    },
    {
      "cell_type": "code",
      "source": [
        "## 04.07 LIST METHODS\n",
        "################################################################################\n",
        "##  List methods in Python are built-in functions that are specific to lists\n",
        "##  and allow you to perform various operations on list objects.\n",
        "##  These methods provide convenient ways to manipulate and extract\n",
        "##  information from a list.\n",
        "################################################################################"
      ],
      "metadata": {
        "id": "pAhIXlEFIhQn"
      },
      "execution_count": null,
      "outputs": []
    },
    {
      "cell_type": "code",
      "source": [
        "majas_list = []\n",
        "## append()\n",
        "majas_list.append(\"Ireland\")\n",
        "majas_list.append(2500)\n",
        "print(majas_list)"
      ],
      "metadata": {
        "colab": {
          "base_uri": "https://localhost:8080/"
        },
        "id": "4-PUR3OYKDza",
        "outputId": "cf809f9c-a13f-4aa2-a664-83dd28fc2bd0"
      },
      "execution_count": 57,
      "outputs": [
        {
          "output_type": "stream",
          "name": "stdout",
          "text": [
            "['Ireland', 2500]\n"
          ]
        }
      ]
    },
    {
      "cell_type": "code",
      "source": [
        "## extend()\n",
        "majas_list = []\n",
        "majas_list.extend([\"GIS\", 1, True])\n",
        "print(majas_list)"
      ],
      "metadata": {
        "colab": {
          "base_uri": "https://localhost:8080/"
        },
        "id": "eJulcsSRLo6V",
        "outputId": "7de5bd91-179f-45cd-efce-185271f5abf3"
      },
      "execution_count": 2,
      "outputs": [
        {
          "output_type": "stream",
          "name": "stdout",
          "text": [
            "['GIS', 1, True]\n"
          ]
        }
      ]
    },
    {
      "cell_type": "code",
      "source": [
        "## pop()\n",
        "majas_list.pop()\n",
        "print(majas_list)"
      ],
      "metadata": {
        "colab": {
          "base_uri": "https://localhost:8080/"
        },
        "id": "vp0L-d6RXToH",
        "outputId": "1d99d47e-1ade-4b86-e740-b03ad6ba252a"
      },
      "execution_count": 3,
      "outputs": [
        {
          "output_type": "stream",
          "name": "stdout",
          "text": [
            "['GIS', 1]\n"
          ]
        }
      ]
    },
    {
      "cell_type": "code",
      "source": [
        "popped = majas_list.pop(1)\n",
        "print(majas_list)\n",
        "print(popped)"
      ],
      "metadata": {
        "colab": {
          "base_uri": "https://localhost:8080/"
        },
        "id": "lSAinCg7XgoE",
        "outputId": "f899ee69-eb6d-445b-dfb8-2c2f7e9a3566"
      },
      "execution_count": 4,
      "outputs": [
        {
          "output_type": "stream",
          "name": "stdout",
          "text": [
            "['GIS']\n",
            "1\n"
          ]
        }
      ]
    },
    {
      "cell_type": "code",
      "source": [
        "## insert()\n",
        "majas_list.insert(1, \"Dublin\")\n",
        "print(majas_list)"
      ],
      "metadata": {
        "colab": {
          "base_uri": "https://localhost:8080/"
        },
        "id": "GrJtU5CrXoPo",
        "outputId": "2f0dfaa2-cf1f-4dcb-b185-0fad452b205f"
      },
      "execution_count": 5,
      "outputs": [
        {
          "output_type": "stream",
          "name": "stdout",
          "text": [
            "['GIS', 'Dublin']\n"
          ]
        }
      ]
    },
    {
      "cell_type": "code",
      "source": [
        "## sort()\n",
        "majas_list.sort()\n",
        "print(majas_list)"
      ],
      "metadata": {
        "colab": {
          "base_uri": "https://localhost:8080/"
        },
        "id": "NZwiJstdXy04",
        "outputId": "1c6b8a7a-fd17-4b87-cd8a-6276df85dc28"
      },
      "execution_count": 6,
      "outputs": [
        {
          "output_type": "stream",
          "name": "stdout",
          "text": [
            "['Dublin', 'GIS']\n"
          ]
        }
      ]
    },
    {
      "cell_type": "code",
      "source": [
        "## reverse()\n",
        "majas_list.reverse()\n",
        "print(majas_list)"
      ],
      "metadata": {
        "colab": {
          "base_uri": "https://localhost:8080/"
        },
        "id": "OalLXJXKX4Id",
        "outputId": "ed340f3a-0d1d-4eff-f6d4-211021981fba"
      },
      "execution_count": 7,
      "outputs": [
        {
          "output_type": "stream",
          "name": "stdout",
          "text": [
            "['GIS', 'Dublin']\n"
          ]
        }
      ]
    },
    {
      "cell_type": "code",
      "source": [
        "## remove()\n",
        "majas_list.remove(\"GIS\")\n",
        "print(majas_list)"
      ],
      "metadata": {
        "colab": {
          "base_uri": "https://localhost:8080/"
        },
        "id": "JlAfs_M-YAIx",
        "outputId": "0c8ad276-5f13-4487-fdf8-f2a70a0af1a7"
      },
      "execution_count": 8,
      "outputs": [
        {
          "output_type": "stream",
          "name": "stdout",
          "text": [
            "['Dublin']\n"
          ]
        }
      ]
    },
    {
      "cell_type": "code",
      "source": [
        "## clear()\n",
        "majas_list.clear()\n",
        "print(majas_list)"
      ],
      "metadata": {
        "colab": {
          "base_uri": "https://localhost:8080/"
        },
        "id": "VPwWe3HfYGRQ",
        "outputId": "4569ce19-dfb4-4c21-fee7-93b0cc7af250"
      },
      "execution_count": 9,
      "outputs": [
        {
          "output_type": "stream",
          "name": "stdout",
          "text": [
            "[]\n"
          ]
        }
      ]
    }
  ]
}