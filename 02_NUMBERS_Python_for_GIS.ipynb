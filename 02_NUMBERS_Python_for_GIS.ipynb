{
  "nbformat": 4,
  "nbformat_minor": 0,
  "metadata": {
    "colab": {
      "provenance": [],
      "authorship_tag": "ABX9TyMd3VCO2oE0H5thvUZ5/Y6E",
      "include_colab_link": true
    },
    "kernelspec": {
      "name": "python3",
      "display_name": "Python 3"
    },
    "language_info": {
      "name": "python"
    }
  },
  "cells": [
    {
      "cell_type": "markdown",
      "metadata": {
        "id": "view-in-github",
        "colab_type": "text"
      },
      "source": [
        "<a href=\"https://colab.research.google.com/github/majaturkalj/python-journey/blob/main/02_NUMBERS_Python_for_GIS.ipynb\" target=\"_parent\"><img src=\"https://colab.research.google.com/assets/colab-badge.svg\" alt=\"Open In Colab\"/></a>"
      ]
    },
    {
      "cell_type": "markdown",
      "source": [
        "INTEGERS"
      ],
      "metadata": {
        "id": "owi8c2d2SfSA"
      }
    },
    {
      "cell_type": "code",
      "execution_count": null,
      "metadata": {
        "id": "SGmoCSK0QYza"
      },
      "outputs": [],
      "source": [
        "################################################################################\n",
        "## INTEGER (int)\n",
        "##  An integer is used to represent whole numbers.\n",
        "##   - Integers are whole numbers without a decimal point.\n",
        "##   - Integers can be positive or negative.\n",
        "##\n",
        "##  Reference: https://www.w3schools.com/python/python_numbers.asp\n",
        "##\n",
        "################################################################################\n"
      ]
    },
    {
      "cell_type": "code",
      "source": [
        "#POSITIVE INTEGER\n",
        "population = 2500\n",
        "print(type(population))\n",
        "print(population)"
      ],
      "metadata": {
        "colab": {
          "base_uri": "https://localhost:8080/"
        },
        "id": "pzenOrpgyQTV",
        "outputId": "4e9b28c2-8a31-4060-deaa-34ea1b6ae5c7"
      },
      "execution_count": 3,
      "outputs": [
        {
          "output_type": "stream",
          "name": "stdout",
          "text": [
            "<class 'int'>\n",
            "2500\n"
          ]
        }
      ]
    },
    {
      "cell_type": "code",
      "source": [
        "#NEGATIVE INTEGER\n",
        "temperature = -5\n",
        "print(type(temperature))\n",
        "print(temperature)\n"
      ],
      "metadata": {
        "colab": {
          "base_uri": "https://localhost:8080/"
        },
        "id": "mTOLOmn1zdQb",
        "outputId": "36f0d99b-1cea-4a67-a94d-75618bfac0f2"
      },
      "execution_count": 4,
      "outputs": [
        {
          "output_type": "stream",
          "name": "stdout",
          "text": [
            "<class 'int'>\n",
            "-5\n"
          ]
        }
      ]
    },
    {
      "cell_type": "code",
      "source": [
        "#int()\n",
        "dolphin_count = int(16)\n",
        "print(type(dolphin_count))\n",
        "print(dolphin_count)"
      ],
      "metadata": {
        "colab": {
          "base_uri": "https://localhost:8080/"
        },
        "id": "G9jjp6513NEF",
        "outputId": "323e5cdd-cf3c-47ea-dfd8-b518afabe57e"
      },
      "execution_count": 5,
      "outputs": [
        {
          "output_type": "stream",
          "name": "stdout",
          "text": [
            "<class 'int'>\n",
            "16\n"
          ]
        }
      ]
    },
    {
      "cell_type": "code",
      "source": [
        "#CAST WITH int()\n",
        "str_number = \"25\"\n",
        "print(type(str_number))\n",
        "species_count = int(str_number)\n",
        "print(type(species_count))\n",
        "print(species_count)"
      ],
      "metadata": {
        "colab": {
          "base_uri": "https://localhost:8080/"
        },
        "id": "HDXr8z4T3fr1",
        "outputId": "eae2dec5-7b96-40c7-9597-2513c3c219c9"
      },
      "execution_count": 6,
      "outputs": [
        {
          "output_type": "stream",
          "name": "stdout",
          "text": [
            "<class 'str'>\n",
            "<class 'int'>\n",
            "25\n"
          ]
        }
      ]
    },
    {
      "cell_type": "code",
      "source": [
        "#####\n",
        "#EXERCISE\n",
        "#Take the two variables below and cast them to an int type object: decimal_num = 10.45 string = \"GIS\"\n",
        "#####\n",
        "decimal_num = 10.45\n",
        "print(type(decimal_num))\n",
        "string = \"GIS\"\n",
        "print(type(string))"
      ],
      "metadata": {
        "colab": {
          "base_uri": "https://localhost:8080/"
        },
        "id": "OcnseDQK7Qrk",
        "outputId": "3a0132b7-3958-45c8-a5f3-5acb541211aa"
      },
      "execution_count": 7,
      "outputs": [
        {
          "output_type": "stream",
          "name": "stdout",
          "text": [
            "<class 'float'>\n",
            "<class 'str'>\n"
          ]
        }
      ]
    },
    {
      "cell_type": "code",
      "source": [
        "decimal_num = 10.45\n",
        "decimal_num_to_int = int(decimal_num)\n",
        "print(type(decimal_num_to_int))"
      ],
      "metadata": {
        "colab": {
          "base_uri": "https://localhost:8080/"
        },
        "id": "jvgh2s-B8_3y",
        "outputId": "df138ee5-2d30-4f22-89d8-d49410d0bfe2"
      },
      "execution_count": 8,
      "outputs": [
        {
          "output_type": "stream",
          "name": "stdout",
          "text": [
            "<class 'int'>\n"
          ]
        }
      ]
    },
    {
      "cell_type": "code",
      "source": [
        "#str_number = \"GIS\": can not be converted to integer because it is a string and not numerical value"
      ],
      "metadata": {
        "id": "KX7XgtSl9lHe"
      },
      "execution_count": 19,
      "outputs": []
    },
    {
      "cell_type": "markdown",
      "source": [
        "FLOAT"
      ],
      "metadata": {
        "id": "JgdNWL9-DDu7"
      }
    },
    {
      "cell_type": "code",
      "source": [
        "################################################################################\n",
        "## FLOAT (float)\n",
        "##  An floating point number is used to represent decimals / fractions\n",
        "##   - Floats are numbers with a decimal point.\n",
        "##   - Floats can be positive or negative.\n",
        "##\n",
        "##  https://www.w3schools.com/python/python_numbers.asp\n",
        "##\n",
        "################################################################################"
      ],
      "metadata": {
        "id": "dQbo7rFnDHkD"
      },
      "execution_count": null,
      "outputs": []
    },
    {
      "cell_type": "code",
      "source": [
        "#POSITIVE FLOAT\n",
        "height_m = 10.5\n",
        "print(type(height_m))\n",
        "print(height_m)"
      ],
      "metadata": {
        "colab": {
          "base_uri": "https://localhost:8080/"
        },
        "id": "3Xf6hamaDRzh",
        "outputId": "713ef1b6-f6cd-4ba1-afcf-520ddc275b41"
      },
      "execution_count": 14,
      "outputs": [
        {
          "output_type": "stream",
          "name": "stdout",
          "text": [
            "<class 'float'>\n",
            "10.5\n"
          ]
        }
      ]
    },
    {
      "cell_type": "code",
      "source": [
        "#NEGATIVE FLOAT\n",
        "longitude = -6.3628\n",
        "print(type(longitude))\n",
        "print(longitude)"
      ],
      "metadata": {
        "colab": {
          "base_uri": "https://localhost:8080/"
        },
        "id": "iqGkKTq6H-1a",
        "outputId": "b08f3be1-ed44-4b57-feb5-f2a437013d53"
      },
      "execution_count": 15,
      "outputs": [
        {
          "output_type": "stream",
          "name": "stdout",
          "text": [
            "<class 'float'>\n",
            "-6.3628\n"
          ]
        }
      ]
    },
    {
      "cell_type": "code",
      "source": [
        "#float()\n",
        "latitude = float(54.098)\n",
        "print(type(latitude))\n",
        "print(latitude)"
      ],
      "metadata": {
        "colab": {
          "base_uri": "https://localhost:8080/"
        },
        "id": "cR8IhgNGIVvB",
        "outputId": "ef0b7500-7f13-413a-e820-61e7c313407f"
      },
      "execution_count": 16,
      "outputs": [
        {
          "output_type": "stream",
          "name": "stdout",
          "text": [
            "<class 'float'>\n",
            "54.098\n"
          ]
        }
      ]
    },
    {
      "cell_type": "code",
      "source": [
        "#CAST WITH float()\n",
        "str_number = \"25.075\"\n",
        "print(type(str_number))\n",
        "flt_number = float(str_number)\n",
        "print(type(flt_number))\n",
        "print(flt_number)"
      ],
      "metadata": {
        "colab": {
          "base_uri": "https://localhost:8080/"
        },
        "id": "PddoVQU_Iuzo",
        "outputId": "7bf41b50-6b30-40c6-a6e8-92ae5e4b53cb"
      },
      "execution_count": 17,
      "outputs": [
        {
          "output_type": "stream",
          "name": "stdout",
          "text": [
            "<class 'str'>\n",
            "<class 'float'>\n",
            "25.075\n"
          ]
        }
      ]
    },
    {
      "cell_type": "code",
      "source": [
        "print(\"\\nSCRIPT COMPLETE\")"
      ],
      "metadata": {
        "colab": {
          "base_uri": "https://localhost:8080/"
        },
        "id": "TIRaTvHgJQgh",
        "outputId": "6e7986cd-cc02-42f5-8f1f-5d154deaaf0d"
      },
      "execution_count": 18,
      "outputs": [
        {
          "output_type": "stream",
          "name": "stdout",
          "text": [
            "\n",
            "SCRIPT COMPLETE\n"
          ]
        }
      ]
    },
    {
      "cell_type": "code",
      "source": [
        "#####\n",
        "#EXERCISE\n",
        "#Take the two variables below and cast them to an float type object\n",
        "#string = \"GIS\": can not be converted to float because it is a string and not numerical value\n",
        "#####\n",
        "num = 10\n",
        "num_to_float = float(num)\n",
        "print(type(num_to_float))\n",
        "print(num_to_float)\n",
        "num_string = \"55\"\n",
        "string_to_float = float(num_string)\n",
        "print(type(string_to_float))\n",
        "print(string_to_float)"
      ],
      "metadata": {
        "colab": {
          "base_uri": "https://localhost:8080/"
        },
        "id": "F9Eca2F5JwC6",
        "outputId": "d0b40024-1399-4a0c-a77d-1c780baffe43"
      },
      "execution_count": 23,
      "outputs": [
        {
          "output_type": "stream",
          "name": "stdout",
          "text": [
            "<class 'float'>\n",
            "10.0\n",
            "<class 'float'>\n",
            "55.0\n"
          ]
        }
      ]
    },
    {
      "cell_type": "markdown",
      "source": [
        "BOOLEAN"
      ],
      "metadata": {
        "id": "6f4cSUooJXko"
      }
    },
    {
      "cell_type": "code",
      "source": [
        "################################################################################\n",
        "## BOOLEAN (bool)\n",
        "##  While not exactly a numerical data type, but used to represent binary values\n",
        "##   - True, or\n",
        "##   - False\n",
        "##\n",
        "##  Can be used in logical operators and comparisons as we will see later in the\n",
        "##  course\n",
        "##\n",
        "##  Reference: https://www.w3schools.com/python/python_booleans.asp\n",
        "##\n",
        "################################################################################"
      ],
      "metadata": {
        "id": "4kqPOHGgJa2i"
      },
      "execution_count": null,
      "outputs": []
    },
    {
      "cell_type": "code",
      "source": [
        "#TRUE BOOLEAN\n",
        "data_exists = True\n",
        "print(type(data_exists))\n",
        "print(data_exists)"
      ],
      "metadata": {
        "id": "mbbPygr7Mrbp",
        "outputId": "8600b6ce-e420-482d-e8a0-530527fbb3ce",
        "colab": {
          "base_uri": "https://localhost:8080/"
        }
      },
      "execution_count": 24,
      "outputs": [
        {
          "output_type": "stream",
          "name": "stdout",
          "text": [
            "<class 'bool'>\n",
            "True\n"
          ]
        }
      ]
    },
    {
      "cell_type": "code",
      "source": [
        "#FALSE BOOLEAN\n",
        "life_on_mars = False\n",
        "print(type(life_on_mars))\n",
        "print(life_on_mars)"
      ],
      "metadata": {
        "id": "hylUeApCNSB0",
        "outputId": "30234584-384b-4840-83ea-856d4f84ac78",
        "colab": {
          "base_uri": "https://localhost:8080/"
        }
      },
      "execution_count": 25,
      "outputs": [
        {
          "output_type": "stream",
          "name": "stdout",
          "text": [
            "<class 'bool'>\n",
            "False\n"
          ]
        }
      ]
    },
    {
      "cell_type": "code",
      "source": [
        "#bool()\n",
        "gis_is_fantastic = bool(True)\n",
        "print(type(gis_is_fantastic))\n",
        "print(gis_is_fantastic)"
      ],
      "metadata": {
        "id": "u_zNqsEDNUE0",
        "outputId": "8e48c259-ad51-4950-fba4-8acba43a7be2",
        "colab": {
          "base_uri": "https://localhost:8080/"
        }
      },
      "execution_count": 26,
      "outputs": [
        {
          "output_type": "stream",
          "name": "stdout",
          "text": [
            "<class 'bool'>\n",
            "True\n"
          ]
        }
      ]
    },
    {
      "cell_type": "code",
      "source": [
        "#CAST with bool()\n",
        "num0 = 0\n",
        "num1 = 1\n",
        "\n",
        "num0_bool = bool(num0)\n",
        "num1_bool = bool(num1)\n",
        "\n",
        "print(type(num0_bool))\n",
        "print(type(num1_bool))\n",
        "\n",
        "print(num0_bool)\n",
        "print(num1_bool)"
      ],
      "metadata": {
        "id": "jvSGRda1Nbeh",
        "outputId": "6550bb97-3c18-48df-ef7d-c6dad1ecb2ca",
        "colab": {
          "base_uri": "https://localhost:8080/"
        }
      },
      "execution_count": 27,
      "outputs": [
        {
          "output_type": "stream",
          "name": "stdout",
          "text": [
            "<class 'bool'>\n",
            "<class 'bool'>\n",
            "False\n",
            "True\n"
          ]
        }
      ]
    },
    {
      "cell_type": "code",
      "source": [
        "num0 = 0\n",
        "num1 = 1\n",
        "\n",
        "print(type(num0))\n",
        "print(num0)\n",
        "\n",
        "print(type(num1))\n",
        "print(num1)"
      ],
      "metadata": {
        "id": "rMUI0Hl_RaWF",
        "outputId": "654643c4-5527-4594-8713-460f906f2f72",
        "colab": {
          "base_uri": "https://localhost:8080/"
        }
      },
      "execution_count": 28,
      "outputs": [
        {
          "output_type": "stream",
          "name": "stdout",
          "text": [
            "<class 'int'>\n",
            "0\n",
            "<class 'int'>\n",
            "1\n"
          ]
        }
      ]
    },
    {
      "cell_type": "code",
      "source": [
        "#####\n",
        "#EXERCISE\n",
        "#Take the three variables below and cast them to an boolean\n",
        "null = None\n",
        "empty_string = \"\"\n",
        "string = \"GIS\"\n",
        "#####"
      ],
      "metadata": {
        "id": "8WRPHSIPSzx7"
      },
      "execution_count": null,
      "outputs": []
    },
    {
      "cell_type": "code",
      "source": [
        "null = None\n",
        "null_bool = bool(None)\n",
        "print(type(null_bool))\n",
        "print(null_bool)"
      ],
      "metadata": {
        "id": "eiCFxC_7S8bt",
        "outputId": "f43e1062-db69-4a4a-e699-3e5637f147ac",
        "colab": {
          "base_uri": "https://localhost:8080/"
        }
      },
      "execution_count": 29,
      "outputs": [
        {
          "output_type": "stream",
          "name": "stdout",
          "text": [
            "<class 'bool'>\n",
            "False\n"
          ]
        }
      ]
    },
    {
      "cell_type": "code",
      "source": [
        "empty_string = \"\"\n",
        "empty_string_bool = bool(\"\")\n",
        "print(type(empty_string_bool))\n",
        "print(empty_string_bool)"
      ],
      "metadata": {
        "id": "mAu6d6PjTWX7",
        "outputId": "a6a88820-8847-49c7-875c-526afa169c4e",
        "colab": {
          "base_uri": "https://localhost:8080/"
        }
      },
      "execution_count": 30,
      "outputs": [
        {
          "output_type": "stream",
          "name": "stdout",
          "text": [
            "<class 'bool'>\n",
            "False\n"
          ]
        }
      ]
    },
    {
      "cell_type": "code",
      "source": [
        "string = \"GIS\"\n",
        "string_bool = bool(\"GIS\")\n",
        "print(type(string_bool))\n",
        "print(string_bool)\n"
      ],
      "metadata": {
        "id": "lHIesNWNTwI6",
        "outputId": "ebf97489-bf40-41b2-8655-455236b03e7e",
        "colab": {
          "base_uri": "https://localhost:8080/"
        }
      },
      "execution_count": 31,
      "outputs": [
        {
          "output_type": "stream",
          "name": "stdout",
          "text": [
            "<class 'bool'>\n",
            "True\n"
          ]
        }
      ]
    }
  ]
}