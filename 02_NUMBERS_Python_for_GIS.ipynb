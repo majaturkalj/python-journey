{
  "nbformat": 4,
  "nbformat_minor": 0,
  "metadata": {
    "colab": {
      "provenance": [],
      "authorship_tag": "ABX9TyNgNMDNdBwfqh/49NHblUp0",
      "include_colab_link": true
    },
    "kernelspec": {
      "name": "python3",
      "display_name": "Python 3"
    },
    "language_info": {
      "name": "python"
    }
  },
  "cells": [
    {
      "cell_type": "markdown",
      "metadata": {
        "id": "view-in-github",
        "colab_type": "text"
      },
      "source": [
        "<a href=\"https://colab.research.google.com/github/majaturkalj/python-journey/blob/main/02_NUMBERS_Python_for_GIS.ipynb\" target=\"_parent\"><img src=\"https://colab.research.google.com/assets/colab-badge.svg\" alt=\"Open In Colab\"/></a>"
      ]
    },
    {
      "cell_type": "markdown",
      "source": [
        "INTEGERS"
      ],
      "metadata": {
        "id": "owi8c2d2SfSA"
      }
    },
    {
      "cell_type": "code",
      "execution_count": null,
      "metadata": {
        "id": "SGmoCSK0QYza"
      },
      "outputs": [],
      "source": [
        "################################################################################\n",
        "## INTEGER (int)\n",
        "##  An integer is used to represent whole numbers.\n",
        "##   - Integers are whole numbers without a decimal point.\n",
        "##   - Integers can be positive or negative.\n",
        "##\n",
        "##  Reference: https://www.w3schools.com/python/python_numbers.asp\n",
        "##\n",
        "################################################################################\n"
      ]
    },
    {
      "cell_type": "code",
      "source": [
        "#POSITIVE INTEGER\n",
        "population = 2500\n",
        "print(type(population))\n",
        "print(population)"
      ],
      "metadata": {
        "id": "pzenOrpgyQTV",
        "outputId": "4e9b28c2-8a31-4060-deaa-34ea1b6ae5c7",
        "colab": {
          "base_uri": "https://localhost:8080/"
        }
      },
      "execution_count": 3,
      "outputs": [
        {
          "output_type": "stream",
          "name": "stdout",
          "text": [
            "<class 'int'>\n",
            "2500\n"
          ]
        }
      ]
    },
    {
      "cell_type": "code",
      "source": [
        "#NEGATIVE INTEGER\n",
        "temperature = -5\n",
        "print(type(temperature))\n",
        "print(temperature)\n"
      ],
      "metadata": {
        "id": "mTOLOmn1zdQb",
        "outputId": "36f0d99b-1cea-4a67-a94d-75618bfac0f2",
        "colab": {
          "base_uri": "https://localhost:8080/"
        }
      },
      "execution_count": 4,
      "outputs": [
        {
          "output_type": "stream",
          "name": "stdout",
          "text": [
            "<class 'int'>\n",
            "-5\n"
          ]
        }
      ]
    },
    {
      "cell_type": "code",
      "source": [
        "#int()\n",
        "dolphin_count = int(16)\n",
        "print(type(dolphin_count))\n",
        "print(dolphin_count)"
      ],
      "metadata": {
        "id": "G9jjp6513NEF",
        "outputId": "323e5cdd-cf3c-47ea-dfd8-b518afabe57e",
        "colab": {
          "base_uri": "https://localhost:8080/"
        }
      },
      "execution_count": 5,
      "outputs": [
        {
          "output_type": "stream",
          "name": "stdout",
          "text": [
            "<class 'int'>\n",
            "16\n"
          ]
        }
      ]
    },
    {
      "cell_type": "code",
      "source": [
        "#CAST WITH int()\n",
        "str_number = \"25\"\n",
        "print(type(str_number))\n",
        "species_count = int(str_number)\n",
        "print(type(species_count))\n",
        "print(species_count)"
      ],
      "metadata": {
        "id": "HDXr8z4T3fr1",
        "outputId": "eae2dec5-7b96-40c7-9597-2513c3c219c9",
        "colab": {
          "base_uri": "https://localhost:8080/"
        }
      },
      "execution_count": 6,
      "outputs": [
        {
          "output_type": "stream",
          "name": "stdout",
          "text": [
            "<class 'str'>\n",
            "<class 'int'>\n",
            "25\n"
          ]
        }
      ]
    },
    {
      "cell_type": "code",
      "source": [
        "#####\n",
        "#EXERCISE\n",
        "#Take the two variables below and cast them to an int type object: decimal_num = 10.45 string = \"GIS\"\n",
        "#####\n",
        "decimal_num = 10.45\n",
        "print(type(decimal_num))\n",
        "string = \"GIS\"\n",
        "print(type(string))"
      ],
      "metadata": {
        "id": "OcnseDQK7Qrk",
        "outputId": "3a0132b7-3958-45c8-a5f3-5acb541211aa",
        "colab": {
          "base_uri": "https://localhost:8080/"
        }
      },
      "execution_count": 7,
      "outputs": [
        {
          "output_type": "stream",
          "name": "stdout",
          "text": [
            "<class 'float'>\n",
            "<class 'str'>\n"
          ]
        }
      ]
    },
    {
      "cell_type": "code",
      "source": [
        "decimal_num = 10.45\n",
        "decimal_num_to_int = int(decimal_num)\n",
        "print(type(decimal_num_to_int))"
      ],
      "metadata": {
        "id": "jvgh2s-B8_3y",
        "outputId": "df138ee5-2d30-4f22-89d8-d49410d0bfe2",
        "colab": {
          "base_uri": "https://localhost:8080/"
        }
      },
      "execution_count": 8,
      "outputs": [
        {
          "output_type": "stream",
          "name": "stdout",
          "text": [
            "<class 'int'>\n"
          ]
        }
      ]
    },
    {
      "cell_type": "code",
      "source": [
        "str_number = \"GIS\"\n",
        "str_number_to_int = int(str_number)\n",
        "print(type(str_number_to_int))\n"
      ],
      "metadata": {
        "id": "KX7XgtSl9lHe",
        "outputId": "d1b4254e-1428-4fe1-a35e-84c2f04d60a0",
        "colab": {
          "base_uri": "https://localhost:8080/",
          "height": 176
        }
      },
      "execution_count": 13,
      "outputs": [
        {
          "output_type": "error",
          "ename": "ValueError",
          "evalue": "invalid literal for int() with base 10: 'GIS'",
          "traceback": [
            "\u001b[0;31m---------------------------------------------------------------------------\u001b[0m",
            "\u001b[0;31mValueError\u001b[0m                                Traceback (most recent call last)",
            "\u001b[0;32m<ipython-input-13-1d9220b3fe49>\u001b[0m in \u001b[0;36m<cell line: 2>\u001b[0;34m()\u001b[0m\n\u001b[1;32m      1\u001b[0m \u001b[0mstr_number\u001b[0m \u001b[0;34m=\u001b[0m \u001b[0;34m\"GIS\"\u001b[0m\u001b[0;34m\u001b[0m\u001b[0;34m\u001b[0m\u001b[0m\n\u001b[0;32m----> 2\u001b[0;31m \u001b[0mstr_number_to_int\u001b[0m \u001b[0;34m=\u001b[0m \u001b[0mint\u001b[0m\u001b[0;34m(\u001b[0m\u001b[0mstr_number\u001b[0m\u001b[0;34m)\u001b[0m\u001b[0;34m\u001b[0m\u001b[0;34m\u001b[0m\u001b[0m\n\u001b[0m\u001b[1;32m      3\u001b[0m \u001b[0mprint\u001b[0m\u001b[0;34m(\u001b[0m\u001b[0mtype\u001b[0m\u001b[0;34m(\u001b[0m\u001b[0mstr_number_to_int\u001b[0m\u001b[0;34m)\u001b[0m\u001b[0;34m)\u001b[0m\u001b[0;34m\u001b[0m\u001b[0;34m\u001b[0m\u001b[0m\n",
            "\u001b[0;31mValueError\u001b[0m: invalid literal for int() with base 10: 'GIS'"
          ]
        }
      ]
    },
    {
      "cell_type": "code",
      "source": [],
      "metadata": {
        "id": "A8UfZugGBs3w"
      },
      "execution_count": null,
      "outputs": []
    }
  ]
}