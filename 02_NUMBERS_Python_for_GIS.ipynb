{
  "nbformat": 4,
  "nbformat_minor": 0,
  "metadata": {
    "colab": {
      "provenance": [],
      "authorship_tag": "ABX9TyO3NDWun1f2HNR/1zSqRt0S",
      "include_colab_link": true
    },
    "kernelspec": {
      "name": "python3",
      "display_name": "Python 3"
    },
    "language_info": {
      "name": "python"
    }
  },
  "cells": [
    {
      "cell_type": "markdown",
      "metadata": {
        "id": "view-in-github",
        "colab_type": "text"
      },
      "source": [
        "<a href=\"https://colab.research.google.com/github/majaturkalj/python-journey/blob/main/02_NUMBERS_Python_for_GIS.ipynb\" target=\"_parent\"><img src=\"https://colab.research.google.com/assets/colab-badge.svg\" alt=\"Open In Colab\"/></a>"
      ]
    },
    {
      "cell_type": "markdown",
      "source": [
        "INTEGERS"
      ],
      "metadata": {
        "id": "owi8c2d2SfSA"
      }
    },
    {
      "cell_type": "code",
      "execution_count": null,
      "metadata": {
        "id": "SGmoCSK0QYza"
      },
      "outputs": [],
      "source": [
        "################################################################################\n",
        "## INTEGER (int)\n",
        "##  An integer is used to represent whole numbers.\n",
        "##   - Integers are whole numbers without a decimal point.\n",
        "##   - Integers can be positive or negative.\n",
        "##\n",
        "##  Reference: https://www.w3schools.com/python/python_numbers.asp\n",
        "##\n",
        "################################################################################\n"
      ]
    }
  ]
}