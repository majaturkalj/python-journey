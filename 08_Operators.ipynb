{
  "nbformat": 4,
  "nbformat_minor": 0,
  "metadata": {
    "colab": {
      "provenance": [],
      "authorship_tag": "ABX9TyOJEVzBdMT+UE00SRI8dePH",
      "include_colab_link": true
    },
    "kernelspec": {
      "name": "python3",
      "display_name": "Python 3"
    },
    "language_info": {
      "name": "python"
    }
  },
  "cells": [
    {
      "cell_type": "markdown",
      "metadata": {
        "id": "view-in-github",
        "colab_type": "text"
      },
      "source": [
        "<a href=\"https://colab.research.google.com/github/majaturkalj/python-journey/blob/main/08_Operators.ipynb\" target=\"_parent\"><img src=\"https://colab.research.google.com/assets/colab-badge.svg\" alt=\"Open In Colab\"/></a>"
      ]
    },
    {
      "cell_type": "code",
      "execution_count": null,
      "metadata": {
        "id": "ljdxEY9rBplJ"
      },
      "outputs": [],
      "source": [
        "## 08.01 Numerical Operators\n",
        "################################################################################\n",
        "## NUMBERS & OPERATORS\n",
        "##  There are two main numerical data types in Python; integer and float.\n",
        "##   - Integers are whole numbers without a decimal point.\n",
        "##   - Floats are numbers with decimal points.\n",
        "##  You can also use complex numbers for complex maths equations.\n",
        "##\n",
        "##  Operators are special symbols that represent computations like addition and\n",
        "##  multiplication. The values the operator is applied to are called operands.\n",
        "##\n",
        "################################################################################"
      ]
    },
    {
      "cell_type": "code",
      "source": [
        "## ADDITION: +\n",
        "num_1, num_2 = 5, 7\n",
        "res_1 = num_1 + num_2\n",
        "print(res_1)"
      ],
      "metadata": {
        "colab": {
          "base_uri": "https://localhost:8080/"
        },
        "id": "B1sa2CaX3gqw",
        "outputId": "c09a1ee1-1196-41fe-9c82-f7ed64ae60cc"
      },
      "execution_count": null,
      "outputs": [
        {
          "output_type": "stream",
          "name": "stdout",
          "text": [
            "12\n"
          ]
        }
      ]
    },
    {
      "cell_type": "code",
      "source": [
        "## SUBTRACTION: -\n",
        "num_1, num_2 = 5, 7\n",
        "res_1 = num_2 - num_1\n",
        "print(res_1)"
      ],
      "metadata": {
        "colab": {
          "base_uri": "https://localhost:8080/"
        },
        "id": "g7dsmWCp_3FC",
        "outputId": "efd9970a-5233-4396-b9b9-156ea13dce84"
      },
      "execution_count": null,
      "outputs": [
        {
          "output_type": "stream",
          "name": "stdout",
          "text": [
            "2\n"
          ]
        }
      ]
    },
    {
      "cell_type": "code",
      "source": [
        "## MULTIPLICATION\n",
        "num_1, num_2 = 5, 7\n",
        "res_1 = num_1 * num_2\n",
        "print(res_1)"
      ],
      "metadata": {
        "colab": {
          "base_uri": "https://localhost:8080/"
        },
        "id": "ddRavRm6ADSo",
        "outputId": "f8e6deee-b597-4294-d85b-a19ac7c641db"
      },
      "execution_count": null,
      "outputs": [
        {
          "output_type": "stream",
          "name": "stdout",
          "text": [
            "35\n"
          ]
        }
      ]
    },
    {
      "cell_type": "code",
      "source": [
        "## DIVISION: / or // (floor division, rounds down to the nearest integer)\n",
        "num_3, num_4 = 12, 5\n",
        "res_2 = num_3 / num_4\n",
        "res_3 = num_3 // num_4\n",
        "print(res_2)\n",
        "print(res_3)"
      ],
      "metadata": {
        "colab": {
          "base_uri": "https://localhost:8080/"
        },
        "id": "Dje2dJ3EAPLA",
        "outputId": "20f75eae-098a-4a0d-fd98-864f26daea60"
      },
      "execution_count": null,
      "outputs": [
        {
          "output_type": "stream",
          "name": "stdout",
          "text": [
            "2.4\n",
            "2\n"
          ]
        }
      ]
    },
    {
      "cell_type": "code",
      "source": [
        "## MODULUS: % (returns a remainder after division)\n",
        "num_3, num_4 = 12, 5\n",
        "res_2 = num_3 % num_4\n",
        "print (res_2)"
      ],
      "metadata": {
        "colab": {
          "base_uri": "https://localhost:8080/"
        },
        "id": "JbCPru1zE7I3",
        "outputId": "fd5dd482-b9c2-403f-fcec-6112dad1caf6"
      },
      "execution_count": null,
      "outputs": [
        {
          "output_type": "stream",
          "name": "stdout",
          "text": [
            "2\n"
          ]
        }
      ]
    },
    {
      "cell_type": "code",
      "source": [
        "## EXPONENTIATION: ** (to the power of)\n",
        "num_3, num_4 = 12, 5\n",
        "res_2 = num_3 ** num_4\n",
        "print (res_2)"
      ],
      "metadata": {
        "colab": {
          "base_uri": "https://localhost:8080/"
        },
        "id": "yCKCY8mgFQlk",
        "outputId": "27c63aa4-6273-41d8-eb8f-b1de7e8c9d42"
      },
      "execution_count": null,
      "outputs": [
        {
          "output_type": "stream",
          "name": "stdout",
          "text": [
            "248832\n"
          ]
        }
      ]
    },
    {
      "cell_type": "code",
      "source": [
        "## 08.02 Numerical Operators Precedence\n",
        "## OPERATOR PRECEDENCE\n",
        "##  Follows the PEMDAS order, equations are evaluated in the following order...\n",
        "##\n",
        "##  P-arenthesis\n",
        "##  E-xponentiation\n",
        "##  M-ultiplication\n",
        "##  D-ivision\n",
        "##  A-ddition\n",
        "##  S-ubtraction\n",
        "##\n",
        "##  ...however, Multiplication and Division have the same precendence, as do\n",
        "##  Addition and Subtraction. Operators with the same precedence are\n",
        "##  evaluated from left to right.\n",
        "##\n",
        "################################################################################"
      ],
      "metadata": {
        "id": "NViBtOHdG0o0"
      },
      "execution_count": null,
      "outputs": []
    },
    {
      "cell_type": "code",
      "source": [
        "result = 5 + (10 / 2) - 2 * 10**2\n",
        "print(result)"
      ],
      "metadata": {
        "colab": {
          "base_uri": "https://localhost:8080/"
        },
        "id": "-Mg2pdufG_Of",
        "outputId": "c4e8e686-04b2-4a4b-b705-6d143c458e5c"
      },
      "execution_count": null,
      "outputs": [
        {
          "output_type": "stream",
          "name": "stdout",
          "text": [
            "-190.0\n"
          ]
        }
      ]
    },
    {
      "cell_type": "code",
      "source": [
        "result_1 = (20 / 4) * (100 / 5) - 50 + 25\n",
        "result_2 = (2**4 + 7 - 2 - 3 * 2) - (10 * 5 - (10 * 4)) + 10\n",
        "print(result_1)\n",
        "print(result_2)"
      ],
      "metadata": {
        "colab": {
          "base_uri": "https://localhost:8080/"
        },
        "id": "k7jE19XoIK_Y",
        "outputId": "fcefd9cc-f723-4941-ed67-4e41093b574d"
      },
      "execution_count": null,
      "outputs": [
        {
          "output_type": "stream",
          "name": "stdout",
          "text": [
            "75.0\n",
            "15\n"
          ]
        }
      ]
    },
    {
      "cell_type": "code",
      "source": [
        "## 08.03 Comparison Operators\n",
        "##  Compare two values and return a Boolean result."
      ],
      "metadata": {
        "id": "1SjEW0CnNNGH"
      },
      "execution_count": null,
      "outputs": []
    },
    {
      "cell_type": "code",
      "source": [
        "## EQUAL TO: ==\n",
        "print(10 == 10)\n",
        "print(10 == 11)\n",
        "print(10 == 10.0)\n",
        "print(10 == 10.4)\n",
        "print(\"Ireland\" == \"Ireland\")\n",
        "print(\"Ireland\" == \"ireland\")\n",
        "print([1,2] == [1,2])\n",
        "print([1,2] == (1,2))"
      ],
      "metadata": {
        "id": "zVWqZyw0NUlt",
        "colab": {
          "base_uri": "https://localhost:8080/"
        },
        "outputId": "215036cd-d7cc-4cea-957c-8d3633e24da3"
      },
      "execution_count": null,
      "outputs": [
        {
          "output_type": "stream",
          "name": "stdout",
          "text": [
            "True\n",
            "False\n",
            "True\n",
            "False\n",
            "True\n",
            "False\n",
            "True\n",
            "False\n"
          ]
        }
      ]
    },
    {
      "cell_type": "code",
      "source": [
        "## NOT EQUAL TO: !=\n",
        "print(10 != 10)\n",
        "print(10 != 11)\n",
        "print(10 != 10.0)\n",
        "print(10 != 10.4)\n",
        "print(\"Ireland\" != \"Ireland\")\n",
        "print(\"Ireland\" != \"ireland\")\n",
        "print([1,2] != [1,2])\n",
        "print([1,2] != (1,2))"
      ],
      "metadata": {
        "colab": {
          "base_uri": "https://localhost:8080/"
        },
        "id": "bpu0rAzfl3JA",
        "outputId": "46f8fca8-c3a7-4edd-c8de-2525a43a45c5"
      },
      "execution_count": null,
      "outputs": [
        {
          "output_type": "stream",
          "name": "stdout",
          "text": [
            "False\n",
            "True\n",
            "False\n",
            "True\n",
            "False\n",
            "True\n",
            "False\n",
            "True\n"
          ]
        }
      ]
    },
    {
      "cell_type": "code",
      "source": [
        "## GREATER THAN: >\n",
        "print(10 > 10)\n",
        "print(10 > 9)\n",
        "print(10.1 > 10)\n",
        "print(\"Ireland\" > \"England\")\n",
        "print(\"Ireland\" > \"england\")\n",
        "print(\"Ireland\" > \"IreLand\")\n",
        "print([1,2] > [1,2])\n",
        "print([0,2] > [1,2])\n",
        "print([1,3] > [1,2])"
      ],
      "metadata": {
        "colab": {
          "base_uri": "https://localhost:8080/"
        },
        "id": "RUvMPzNgl7gd",
        "outputId": "aa9b1105-cb94-433e-e769-1dc5e7c0364a"
      },
      "execution_count": null,
      "outputs": [
        {
          "output_type": "stream",
          "name": "stdout",
          "text": [
            "False\n",
            "True\n",
            "True\n",
            "True\n",
            "False\n",
            "True\n",
            "False\n",
            "False\n",
            "True\n"
          ]
        }
      ]
    },
    {
      "cell_type": "code",
      "source": [
        "## LESS THAN: <\n",
        "print(10 < 10)\n",
        "print(10 < 9)\n",
        "print(10.1 < 10)\n",
        "print(\"Ireland\" < \"England\")\n",
        "print(\"Ireland\" < \"england\")\n",
        "print(\"Ireland\" < \"IreLand\")\n",
        "print([1,2] < [1,2])\n",
        "print([0,2] < [1,2])\n",
        "print([1,3] < [1,2])"
      ],
      "metadata": {
        "colab": {
          "base_uri": "https://localhost:8080/"
        },
        "id": "JArDI0mGmAeq",
        "outputId": "9d8df5c4-f716-41da-ac76-c2c15e338685"
      },
      "execution_count": null,
      "outputs": [
        {
          "output_type": "stream",
          "name": "stdout",
          "text": [
            "False\n",
            "False\n",
            "False\n",
            "False\n",
            "True\n",
            "False\n",
            "False\n",
            "True\n",
            "False\n"
          ]
        }
      ]
    },
    {
      "cell_type": "code",
      "source": [
        "## GREATER THAN OR EQUAL TO: >=\n",
        "print(10 >= 10)\n",
        "print(10 >= 8)\n",
        "print(10 >= 15)\n",
        "print(\"Ireland\" >= \"England\")\n",
        "print(\"Ireland\" >= \"england\")"
      ],
      "metadata": {
        "colab": {
          "base_uri": "https://localhost:8080/"
        },
        "id": "B4InhRh2maTq",
        "outputId": "8c52e033-3141-4f56-ae54-f51f194db246"
      },
      "execution_count": null,
      "outputs": [
        {
          "output_type": "stream",
          "name": "stdout",
          "text": [
            "True\n",
            "True\n",
            "False\n",
            "True\n",
            "False\n"
          ]
        }
      ]
    },
    {
      "cell_type": "code",
      "source": [
        "## LESS THAN OR EQUAL TO: <=\n",
        "print(10 <= 10)\n",
        "print(10 <= 8)\n",
        "print(10 <= 15)\n",
        "print(\"Ireland\" <= \"England\")\n",
        "print(\"Ireland\" <= \"england\")"
      ],
      "metadata": {
        "colab": {
          "base_uri": "https://localhost:8080/"
        },
        "id": "wyuFkFoqmbkv",
        "outputId": "1f94c154-8e10-47ce-e1d1-c4224fdadf9e"
      },
      "execution_count": null,
      "outputs": [
        {
          "output_type": "stream",
          "name": "stdout",
          "text": [
            "True\n",
            "False\n",
            "True\n",
            "False\n",
            "True\n"
          ]
        }
      ]
    },
    {
      "cell_type": "code",
      "source": [
        "## IS THE SAME AS: is (for identity comparison, not value comparison)\n",
        "x = [1, 2]\n",
        "y = [1, 2]\n",
        "print(x == y)\n",
        "print(x is y)"
      ],
      "metadata": {
        "colab": {
          "base_uri": "https://localhost:8080/"
        },
        "id": "LbUII6WymeWf",
        "outputId": "b45a53bc-3262-4587-9881-c722904b8f93"
      },
      "execution_count": null,
      "outputs": [
        {
          "output_type": "stream",
          "name": "stdout",
          "text": [
            "True\n",
            "False\n"
          ]
        }
      ]
    },
    {
      "cell_type": "code",
      "source": [
        "y = x\n",
        "print(x is y)"
      ],
      "metadata": {
        "colab": {
          "base_uri": "https://localhost:8080/"
        },
        "id": "S6i1R2BMmzuS",
        "outputId": "9b4adfb8-d88d-4fac-9754-41cb6098da12"
      },
      "execution_count": null,
      "outputs": [
        {
          "output_type": "stream",
          "name": "stdout",
          "text": [
            "True\n"
          ]
        }
      ]
    },
    {
      "cell_type": "code",
      "source": [
        "## IS NOT THE SAME AS: is not (for identity comparison, not value comparison)\n",
        "x = [1, 2]\n",
        "y = [1, 2]\n",
        "print(x is not y)"
      ],
      "metadata": {
        "id": "yCOPDBRom6oQ",
        "outputId": "67bfcb15-ba80-431e-dc76-614c33ebe96b",
        "colab": {
          "base_uri": "https://localhost:8080/"
        }
      },
      "execution_count": null,
      "outputs": [
        {
          "output_type": "stream",
          "name": "stdout",
          "text": [
            "True\n"
          ]
        }
      ]
    },
    {
      "cell_type": "code",
      "source": [
        "y = x\n",
        "print(x is not y)"
      ],
      "metadata": {
        "id": "WDkHhu7vm9Zh",
        "outputId": "2b6d5420-9e89-4d24-939a-fc84bae9383a",
        "colab": {
          "base_uri": "https://localhost:8080/"
        }
      },
      "execution_count": null,
      "outputs": [
        {
          "output_type": "stream",
          "name": "stdout",
          "text": [
            "False\n"
          ]
        }
      ]
    },
    {
      "cell_type": "code",
      "source": [
        "################################################################################\n",
        "## 08.04 LOGICAL OPERATORS\n",
        "##  These operators are used to perform logical operations on Boolean values,\n",
        "##\n",
        "################################################################################"
      ],
      "metadata": {
        "id": "IAveJbB6fHes"
      },
      "execution_count": null,
      "outputs": []
    },
    {
      "cell_type": "code",
      "source": [
        "## LOGICAL AND: and (returns True if both operands are True)\n",
        "population = 2500\n",
        "area = 100000\n",
        "\n",
        "print(population < 10000 and area > 50000)\n",
        "print(population > 10000 and area > 50000)"
      ],
      "metadata": {
        "colab": {
          "base_uri": "https://localhost:8080/"
        },
        "id": "2PXjRxblfSZ-",
        "outputId": "67879987-b09d-458a-e4c3-6dbed3081bdd"
      },
      "execution_count": 1,
      "outputs": [
        {
          "output_type": "stream",
          "name": "stdout",
          "text": [
            "True\n",
            "False\n"
          ]
        }
      ]
    },
    {
      "cell_type": "code",
      "source": [
        "## LOGICAL OR: or (returns True if at least one operand is True)\n",
        "counties_1 = [\"Kildare\", \"Carlow\", \"Dublin\", \"Meath\"]\n",
        "counties_2 = [\"Clare\", \"Sligo\", \"Galway\"]\n",
        "\n",
        "print(\"Kildare\" in counties_1 or \"Galway\" in counties_2)\n",
        "print(\"Galway\" in counties_1 or \"Galway\" in counties_2)\n",
        "print(\"Galway\" in counties_1 or \"Cork\" in counties_2)"
      ],
      "metadata": {
        "colab": {
          "base_uri": "https://localhost:8080/"
        },
        "id": "BnhqI2XSi-D4",
        "outputId": "adfcb916-da56-4801-f6a6-359087b4449e"
      },
      "execution_count": 2,
      "outputs": [
        {
          "output_type": "stream",
          "name": "stdout",
          "text": [
            "True\n",
            "True\n",
            "False\n"
          ]
        }
      ]
    },
    {
      "cell_type": "code",
      "source": [
        "## LOGICAL NOT: not (negates a Boolean value)\n",
        "result = True\n",
        "\n",
        "print(not result)\n",
        "print(not (\"Galway\" in counties_1 or \"Cork\" in counties_2))"
      ],
      "metadata": {
        "colab": {
          "base_uri": "https://localhost:8080/"
        },
        "id": "ou8OMx7skgAN",
        "outputId": "dfb7b40d-cfac-45e4-de42-3d5f84c05a36"
      },
      "execution_count": 3,
      "outputs": [
        {
          "output_type": "stream",
          "name": "stdout",
          "text": [
            "False\n",
            "True\n"
          ]
        }
      ]
    },
    {
      "cell_type": "code",
      "source": [
        "counties_1 = [\"Kildare\", \"Carlow\", \"Dublin\", \"Meath\"]\n",
        "counties_2 = [\"Clare\", \"Sligo\", \"Galway\"]\n",
        "result_1 = (\"Cork\" in counties_1 or \"Galway\" in counties_2) or (\"Cork\" in counties_1 or \"Dublin\" in counties_2)\n",
        "result_2 = (\"Cork\" in counties_1 or \"Galway\" in counties_2) and (\"Cork\" in counties_1 or \"Dublin\" in counties_2)\n",
        "print(result_1)\n",
        "print(result_2)"
      ],
      "metadata": {
        "colab": {
          "base_uri": "https://localhost:8080/"
        },
        "id": "rKjDKL_E3YYG",
        "outputId": "491ab9c3-8cae-434e-c619-5a256235ca9a"
      },
      "execution_count": 6,
      "outputs": [
        {
          "output_type": "stream",
          "name": "stdout",
          "text": [
            "True\n",
            "False\n"
          ]
        }
      ]
    },
    {
      "cell_type": "code",
      "source": [
        "################################################################################\n",
        "## 08.05 SHORT-CIRCUIT EVALUATION\n",
        "##  The Python interpreter doesn't always evaluate both sides of the logical\n",
        "##  expression, instead, it stops as soon as it can determine the result based\n",
        "##  on the rules of the operator. It is the act of ignoring the execution of\n",
        "##  Boolean expression that will have no effect on the final result.\n",
        "##\n",
        "##  Short-circuiting saves processing time.\n",
        "##\n",
        "################################################################################"
      ],
      "metadata": {
        "id": "gOVW5JAl1ibh"
      },
      "execution_count": null,
      "outputs": []
    },
    {
      "cell_type": "code",
      "source": [
        "## EXAMPLE: LOGICAL AND\n",
        "##  In a LOGICAL AND expression, both operands must be True in order for the\n",
        "##  the entire expression to be True. Therefore, if the left operand is False,\n",
        "##  then the entire expression is False and there is no need to evaluate the\n",
        "##  right operand, and Python will stop and return False.\n",
        "##  If the left operand is True, Python proceeds to evaluate the right operand\n",
        "##  to determine the result.\n",
        "\n",
        "num_1 = 7\n",
        "num_2 = 0\n",
        "\n",
        "# Using logical AND short-circuiting\n",
        "if num_1 / num_2 > 2 and num_2 == 0:\n",
        "    print(\"This will not be executed because an error\")\n",
        "\n",
        "if num_1 / num_2 > 2 and num_2 != 0:\n",
        "    print(\"This will not be executed because the if returns False\")"
      ],
      "metadata": {
        "id": "Ma0_E3xA66J_"
      },
      "execution_count": null,
      "outputs": []
    },
    {
      "cell_type": "code",
      "source": [
        "## EXAMPLE: LOGICAL OR\n",
        "##  In a LOGICAL OR expression, if the left operand is True then the entire\n",
        "##  expression is True, and therefore no need to evaluate the right operand.\n",
        "##  If the left operand is False, Python must proceed to evaluate the right\n",
        "##  operand to determine the result.\n",
        "\n",
        "# Using logical OR short-circuiting\n",
        "if num_2 == 0 or num_1 / num_2 > 2:\n",
        "    print(\"This will be executed because of short-circuiting\")\n",
        "\n",
        "if num_2 != 0 or num_1 / num_2 > 2:\n",
        "    print(\"This will not be executed because of an error\")"
      ],
      "metadata": {
        "id": "sIty042R3NKV"
      },
      "execution_count": null,
      "outputs": []
    }
  ]
}