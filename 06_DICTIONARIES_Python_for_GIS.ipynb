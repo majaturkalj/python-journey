{
  "nbformat": 4,
  "nbformat_minor": 0,
  "metadata": {
    "colab": {
      "provenance": [],
      "authorship_tag": "ABX9TyNd2eWzz36PrPU9i6XsWryV",
      "include_colab_link": true
    },
    "kernelspec": {
      "name": "python3",
      "display_name": "Python 3"
    },
    "language_info": {
      "name": "python"
    }
  },
  "cells": [
    {
      "cell_type": "markdown",
      "metadata": {
        "id": "view-in-github",
        "colab_type": "text"
      },
      "source": [
        "<a href=\"https://colab.research.google.com/github/majaturkalj/python-journey/blob/main/06_DICTIONARIES_Python_for_GIS.ipynb\" target=\"_parent\"><img src=\"https://colab.research.google.com/assets/colab-badge.svg\" alt=\"Open In Colab\"/></a>"
      ]
    },
    {
      "cell_type": "code",
      "execution_count": null,
      "metadata": {
        "id": "3cEYEqQ4dDpW"
      },
      "outputs": [],
      "source": [
        "################################################################################\n",
        "## DICTIONARIES\n",
        "##  Dictionaries are fundamental to GIS workflows with Python\n",
        "##  Dictionaries are ordered and mutable collections of key:value pairs,\n",
        "##  allowing for the storage and manipulation of multiple values within a\n",
        "##  single variable.\n",
        "##  Access the value in a dictionary using the key.\n",
        "##  A key must be an immutable data type (string, number, tuple)\n",
        "##  A value can be any data/object type.\n",
        "################################################################################"
      ]
    },
    {
      "cell_type": "code",
      "source": [
        "## 06.01 DECLARING A DICTIONARY VARIABLE\n",
        "## empty dictionary\n",
        "empty_dict = {}\n",
        "print(type(empty_dict))\n",
        "print(empty_dict)"
      ],
      "metadata": {
        "colab": {
          "base_uri": "https://localhost:8080/"
        },
        "id": "edQVlE-M1-7X",
        "outputId": "c675ef3d-5987-4bd9-a0a6-d47dc593b45d"
      },
      "execution_count": null,
      "outputs": [
        {
          "output_type": "stream",
          "name": "stdout",
          "text": [
            "<class 'dict'>\n",
            "{}\n"
          ]
        }
      ]
    },
    {
      "cell_type": "code",
      "source": [
        "empty_dict = dict()\n",
        "print(empty_dict)"
      ],
      "metadata": {
        "colab": {
          "base_uri": "https://localhost:8080/"
        },
        "id": "Hn4Zwv4D2JyW",
        "outputId": "eac4370e-628e-45ca-e076-37736cbb47ee"
      },
      "execution_count": null,
      "outputs": [
        {
          "output_type": "stream",
          "name": "stdout",
          "text": [
            "{}\n"
          ]
        }
      ]
    },
    {
      "cell_type": "code",
      "source": [
        "num_dict = {1 : \"One\", 2 : \"Two\", 3 : \"Three\"}\n",
        "print(num_dict)"
      ],
      "metadata": {
        "id": "eVUMFV9q2L0O",
        "outputId": "93948944-d2a3-4011-f6a9-95b0d166357f",
        "colab": {
          "base_uri": "https://localhost:8080/"
        }
      },
      "execution_count": null,
      "outputs": [
        {
          "output_type": "stream",
          "name": "stdout",
          "text": [
            "{1: 'One', 2: 'Two', 3: 'Three'}\n"
          ]
        }
      ]
    },
    {
      "cell_type": "code",
      "source": [
        "mixed_dict = {\"string\" : \"hello\", \"tuple\" : (-6.23, 53.35), 123 : 123}\n",
        "print(mixed_dict)"
      ],
      "metadata": {
        "id": "TiJXspvz2Q7F",
        "outputId": "b79f0684-a04b-4467-9f11-cb143c4058aa",
        "colab": {
          "base_uri": "https://localhost:8080/"
        }
      },
      "execution_count": null,
      "outputs": [
        {
          "output_type": "stream",
          "name": "stdout",
          "text": [
            "{'string': 'hello', 'tuple': (-6.23, 53.35), 123: 123}\n"
          ]
        }
      ]
    },
    {
      "cell_type": "code",
      "source": [
        "## 06.02 ACCESSING DICTIONARY VALUES\n",
        "##  To access values we use the variable name that represents the dictionary\n",
        "##  followed bt square brackets. Instead of using indexing we simply use\n",
        "##  the key name to retrive the value associated with that key\n",
        "################################################################################"
      ],
      "metadata": {
        "id": "91wO5x5SlTKZ"
      },
      "execution_count": null,
      "outputs": []
    },
    {
      "cell_type": "code",
      "source": [
        "attributes = {\n",
        "    \"country\" : \"Ireland\",\n",
        "    \"capital\" : \"Dublin\",\n",
        "    \"population\" : 6500000,\n",
        "    \"continent\" : \"Europe\",\n",
        "    \"avg_sum_temp\" : 13.5,\n",
        "    \"last_visit\" : \"17/03/2024\",\n",
        "    \"geometry\" : \"geometry object\"\n",
        "}"
      ],
      "metadata": {
        "id": "NhiS3cfKlUVU"
      },
      "execution_count": null,
      "outputs": []
    },
    {
      "cell_type": "code",
      "source": [
        "print(attributes)"
      ],
      "metadata": {
        "colab": {
          "base_uri": "https://localhost:8080/"
        },
        "id": "ekZsf41rnUxM",
        "outputId": "1e3e390b-bbe3-440e-eb43-da4b09d0eb12"
      },
      "execution_count": null,
      "outputs": [
        {
          "output_type": "stream",
          "name": "stdout",
          "text": [
            "{'country': 'Ireland', 'capital': 'Dublin', 'population': 6500000, 'continent': 'Europe', 'avg_sum_temp': 13.5, 'last_visit': '17/03/2024', 'geometry': 'geometry object'}\n"
          ]
        }
      ]
    },
    {
      "cell_type": "code",
      "source": [
        "## KeyError\n",
        "## print(attributes[0])"
      ],
      "metadata": {
        "id": "g--yQX8Dn_Q-"
      },
      "execution_count": null,
      "outputs": []
    },
    {
      "cell_type": "code",
      "source": [
        "print(attributes[\"country\"])"
      ],
      "metadata": {
        "colab": {
          "base_uri": "https://localhost:8080/"
        },
        "id": "a3uZPsCioKPF",
        "outputId": "105dc9bc-1390-463a-e3c0-9534e8a29a6b"
      },
      "execution_count": null,
      "outputs": [
        {
          "output_type": "stream",
          "name": "stdout",
          "text": [
            "Ireland\n"
          ]
        }
      ]
    },
    {
      "cell_type": "code",
      "source": [
        "print(attributes[\"population\"])"
      ],
      "metadata": {
        "colab": {
          "base_uri": "https://localhost:8080/"
        },
        "id": "vIYpNGYVoTdP",
        "outputId": "8506021a-362b-4e61-f42d-c8a576a416b5"
      },
      "execution_count": null,
      "outputs": [
        {
          "output_type": "stream",
          "name": "stdout",
          "text": [
            "6500000\n"
          ]
        }
      ]
    },
    {
      "cell_type": "code",
      "source": [
        "print(attributes[\"avg_sum_temp\"])"
      ],
      "metadata": {
        "colab": {
          "base_uri": "https://localhost:8080/"
        },
        "id": "u2TjwQNhoVzq",
        "outputId": "c8eeeae9-ea22-4262-b4a8-8130b3100a46"
      },
      "execution_count": null,
      "outputs": [
        {
          "output_type": "stream",
          "name": "stdout",
          "text": [
            "13.5\n"
          ]
        }
      ]
    },
    {
      "cell_type": "code",
      "source": [
        "## KeyError\n",
        "## print(attributes[\"avg_sum_temps\"])"
      ],
      "metadata": {
        "id": "hVxf_3uWoe7M"
      },
      "execution_count": null,
      "outputs": []
    },
    {
      "cell_type": "code",
      "source": [
        "## 06.03 ADDING and MODIFYING DICTIONARY ENTRIES\n",
        "##  Adding new and modifying existing entries are handled the same way.\n",
        "##  We use the square brackets [] and isolate the key we want to update the\n",
        "##  value for, and then use assignment, which is the = to apply and new value\n",
        "##  If we use a key and assignment for a keyname that does not already exists,\n",
        "##  it is added to the dictionary as a new key:value pair.\n",
        "################################################################################"
      ],
      "metadata": {
        "id": "R9ebDFpk3PfX"
      },
      "execution_count": null,
      "outputs": []
    },
    {
      "cell_type": "code",
      "source": [
        "attributes = {\n",
        "    \"country\" : \"Ireland\",\n",
        "    \"capital\" : \"Dublin\",\n",
        "    \"population\" : 6500000,\n",
        "    \"continent\" : \"Europe\",\n",
        "    \"avg_sum_temp\" : 13.5,\n",
        "    \"last_visit\" : \"17/03/2024\",\n",
        "    \"geometry\" : \"geometry object\"\n",
        "}"
      ],
      "metadata": {
        "id": "NINZQRoG3_vu"
      },
      "execution_count": null,
      "outputs": []
    },
    {
      "cell_type": "code",
      "source": [
        "## MODIFY VALUES\n",
        "attributes[\"avg_sum_temp\"] = 20.0\n",
        "print(attributes[\"avg_sum_temp\"])"
      ],
      "metadata": {
        "colab": {
          "base_uri": "https://localhost:8080/"
        },
        "id": "Clmb5sEs4Egv",
        "outputId": "b07d3216-6c3a-4c57-8eff-75272be0bbea"
      },
      "execution_count": null,
      "outputs": [
        {
          "output_type": "stream",
          "name": "stdout",
          "text": [
            "20.0\n"
          ]
        }
      ]
    },
    {
      "cell_type": "code",
      "source": [
        "attributes[\"last_visit\"] = None\n",
        "print(attributes[\"last_visit\"])"
      ],
      "metadata": {
        "colab": {
          "base_uri": "https://localhost:8080/"
        },
        "id": "5KEUB0By4PyH",
        "outputId": "db88501f-d886-42a9-91f3-2daa62ef8464"
      },
      "execution_count": null,
      "outputs": [
        {
          "output_type": "stream",
          "name": "stdout",
          "text": [
            "None\n"
          ]
        }
      ]
    },
    {
      "cell_type": "code",
      "source": [
        "print(attributes)"
      ],
      "metadata": {
        "colab": {
          "base_uri": "https://localhost:8080/"
        },
        "id": "n7KN4OoP4Tjy",
        "outputId": "87a929be-ca77-4abd-c834-b93dd3a62be8"
      },
      "execution_count": null,
      "outputs": [
        {
          "output_type": "stream",
          "name": "stdout",
          "text": [
            "{'country': 'Ireland', 'capital': 'Dublin', 'population': 6500000, 'continent': 'Europe', 'avg_sum_temp': 20.0, 'last_visit': None, 'geometry': 'geometry object'}\n"
          ]
        }
      ]
    },
    {
      "cell_type": "code",
      "source": [
        "## ADD NEW KEY:VALUE\n",
        "attributes[\"life_expect\"] = 82\n",
        "print(attributes)"
      ],
      "metadata": {
        "colab": {
          "base_uri": "https://localhost:8080/"
        },
        "id": "8iMspmXX4Vlg",
        "outputId": "8a4e7483-7cb9-4fda-e352-4e06bd9059eb"
      },
      "execution_count": null,
      "outputs": [
        {
          "output_type": "stream",
          "name": "stdout",
          "text": [
            "{'country': 'Ireland', 'capital': 'Dublin', 'population': 6500000, 'continent': 'Europe', 'avg_sum_temp': 20.0, 'last_visit': None, 'geometry': 'geometry object', 'life_expect': 82}\n"
          ]
        }
      ]
    },
    {
      "cell_type": "code",
      "source": [
        "## 06.04 REMOVING DICTIONARY ENTRIES\n",
        "##  There are three options:\n",
        "##   del\n",
        "##   .pop()\n",
        "##   .popitem()\n",
        "################################################################################"
      ],
      "metadata": {
        "id": "3l9Iouzv8BCH"
      },
      "execution_count": null,
      "outputs": []
    },
    {
      "cell_type": "code",
      "source": [
        "attributes = {\n",
        "    \"country\" : \"Ireland\",\n",
        "    \"capital\" : \"Dublin\",\n",
        "    \"population\" : 6500000,\n",
        "    \"continent\" : \"Europe\",\n",
        "    \"avg_sum_temp\" : 20.0,\n",
        "    \"last_visit\" : None,\n",
        "    \"geometry\" : \"geometry object\",\n",
        "    \"life_expect\" : 82\n",
        "}"
      ],
      "metadata": {
        "id": "x7b9iNZDBYln"
      },
      "execution_count": null,
      "outputs": []
    },
    {
      "cell_type": "code",
      "source": [
        "## DELETE\n",
        "del attributes[\"last_visit\"]\n",
        "print(attributes)"
      ],
      "metadata": {
        "colab": {
          "base_uri": "https://localhost:8080/"
        },
        "id": "pg_EhHpmBZ-2",
        "outputId": "a280f373-a31f-449f-fb43-865c128114e4"
      },
      "execution_count": null,
      "outputs": [
        {
          "output_type": "stream",
          "name": "stdout",
          "text": [
            "{'country': 'Ireland', 'capital': 'Dublin', 'population': 6500000, 'continent': 'Europe', 'avg_sum_temp': 20.0, 'geometry': 'geometry object', 'life_expect': 82}\n"
          ]
        }
      ]
    },
    {
      "cell_type": "code",
      "source": [
        "## POP\n",
        "popped = attributes.pop(\"capital\")\n",
        "print(popped)\n",
        "print(attributes)"
      ],
      "metadata": {
        "colab": {
          "base_uri": "https://localhost:8080/"
        },
        "id": "6xfvv_gWBhBB",
        "outputId": "dbdba904-6169-4998-abf4-a740805085f6"
      },
      "execution_count": null,
      "outputs": [
        {
          "output_type": "stream",
          "name": "stdout",
          "text": [
            "Dublin\n",
            "{'country': 'Ireland', 'population': 6500000, 'continent': 'Europe', 'avg_sum_temp': 20.0, 'geometry': 'geometry object', 'life_expect': 82}\n"
          ]
        }
      ]
    },
    {
      "cell_type": "code",
      "source": [
        "## POPITEM\n",
        "last_item = attributes.popitem()\n",
        "print(last_item)\n",
        "print(attributes)"
      ],
      "metadata": {
        "colab": {
          "base_uri": "https://localhost:8080/"
        },
        "id": "NzBFdjurBpkm",
        "outputId": "d5cf2d54-967a-4b71-c4ea-8e2875bd40be"
      },
      "execution_count": null,
      "outputs": [
        {
          "output_type": "stream",
          "name": "stdout",
          "text": [
            "('life_expect', 82)\n",
            "{'country': 'Ireland', 'population': 6500000, 'continent': 'Europe', 'avg_sum_temp': 20.0, 'geometry': 'geometry object'}\n"
          ]
        }
      ]
    },
    {
      "cell_type": "code",
      "source": [
        "## 06.05 DICTIONARY METHODS\n",
        "##  Dictionary methods in Python are built-in functions that are specific to\n",
        "##  dictionaries and allow you to perform various operations on dictionary\n",
        "##  objects. These methods provide convenient ways to manipulate and extract\n",
        "##  information from a dictionary\n",
        "##\n",
        "##  You know the drill! Fill in your workbook.\n",
        "################################################################################"
      ],
      "metadata": {
        "id": "VloGnZ53FEot"
      },
      "execution_count": null,
      "outputs": []
    },
    {
      "cell_type": "code",
      "source": [
        "attributes = {\n",
        "    \"country\" : \"Ireland\",\n",
        "    \"capital\" : \"Dublin\",\n",
        "    \"population\" : 6500000,\n",
        "    \"continent\" : \"Europe\",\n",
        "    \"avg_sum_temp\" : 20.0,\n",
        "    \"last_visit\" : None,\n",
        "    \"geometry\" : \"geometry object\",\n",
        "    \"life_expect\" : 82\n",
        "}"
      ],
      "metadata": {
        "id": "DYk7sxQSFqZ4"
      },
      "execution_count": null,
      "outputs": []
    },
    {
      "cell_type": "code",
      "source": [
        "## KEYS\n",
        "keys = attributes.keys()\n",
        "print(type(keys))\n",
        "print(keys)\n"
      ],
      "metadata": {
        "colab": {
          "base_uri": "https://localhost:8080/"
        },
        "id": "wQKtDO-CFsEg",
        "outputId": "ff374752-cf04-4958-fbd1-aceb16453b24"
      },
      "execution_count": null,
      "outputs": [
        {
          "output_type": "stream",
          "name": "stdout",
          "text": [
            "<class 'dict_keys'>\n",
            "dict_keys(['country', 'capital', 'population', 'continent', 'avg_sum_temp', 'last_visit', 'geometry', 'life_expect'])\n"
          ]
        }
      ]
    },
    {
      "cell_type": "code",
      "source": [
        "keys_list = list(attributes.keys())\n",
        "print(type(keys_list))\n",
        "print(keys_list)"
      ],
      "metadata": {
        "colab": {
          "base_uri": "https://localhost:8080/"
        },
        "id": "_q-Gz6eoF0wx",
        "outputId": "62361a0d-8378-4952-d6d2-50e33c3a9922"
      },
      "execution_count": null,
      "outputs": [
        {
          "output_type": "stream",
          "name": "stdout",
          "text": [
            "<class 'list'>\n",
            "['country', 'capital', 'population', 'continent', 'avg_sum_temp', 'last_visit', 'geometry', 'life_expect']\n"
          ]
        }
      ]
    },
    {
      "cell_type": "code",
      "source": [
        "## VALUES\n",
        "values = attributes.values()\n",
        "print(type(values))\n",
        "print(values)"
      ],
      "metadata": {
        "colab": {
          "base_uri": "https://localhost:8080/"
        },
        "id": "fqiRQS5TF8zx",
        "outputId": "74e9b291-7fe3-4f05-968e-99ee18b1975b"
      },
      "execution_count": null,
      "outputs": [
        {
          "output_type": "stream",
          "name": "stdout",
          "text": [
            "<class 'dict_values'>\n",
            "dict_values(['Ireland', 'Dublin', 6500000, 'Europe', 20.0, None, 'geometry object', 82])\n"
          ]
        }
      ]
    },
    {
      "cell_type": "code",
      "source": [
        "values_list = list(attributes.values())\n",
        "print(type(values_list))\n",
        "print(values_list)"
      ],
      "metadata": {
        "colab": {
          "base_uri": "https://localhost:8080/"
        },
        "id": "n7TfcohHGCix",
        "outputId": "8f32d34c-17c7-4d48-dc7b-e57f27e1fec6"
      },
      "execution_count": null,
      "outputs": [
        {
          "output_type": "stream",
          "name": "stdout",
          "text": [
            "<class 'list'>\n",
            "['Ireland', 'Dublin', 6500000, 'Europe', 20.0, None, 'geometry object', 82]\n"
          ]
        }
      ]
    },
    {
      "cell_type": "code",
      "source": [
        "## ITEMS\n",
        "items = attributes.items()\n",
        "print(type(items))\n",
        "print(items)"
      ],
      "metadata": {
        "colab": {
          "base_uri": "https://localhost:8080/"
        },
        "id": "9GM_jl0GGRyS",
        "outputId": "5a3e9ae0-d7cd-41e1-8f4e-efef43773b2f"
      },
      "execution_count": null,
      "outputs": [
        {
          "output_type": "stream",
          "name": "stdout",
          "text": [
            "<class 'dict_items'>\n",
            "dict_items([('country', 'Ireland'), ('capital', 'Dublin'), ('population', 6500000), ('continent', 'Europe'), ('avg_sum_temp', 20.0), ('last_visit', None), ('geometry', 'geometry object'), ('life_expect', 82)])\n"
          ]
        }
      ]
    },
    {
      "cell_type": "code",
      "source": [
        "items_list = list(attributes.items())\n",
        "print(type(items_list))\n",
        "print(items_list)"
      ],
      "metadata": {
        "colab": {
          "base_uri": "https://localhost:8080/"
        },
        "id": "5H0kUBocGZ6K",
        "outputId": "5b294af8-214a-458e-a347-d1465daf8fc8"
      },
      "execution_count": null,
      "outputs": [
        {
          "output_type": "stream",
          "name": "stdout",
          "text": [
            "<class 'list'>\n",
            "[('country', 'Ireland'), ('capital', 'Dublin'), ('population', 6500000), ('continent', 'Europe'), ('avg_sum_temp', 20.0), ('last_visit', None), ('geometry', 'geometry object'), ('life_expect', 82)]\n"
          ]
        }
      ]
    },
    {
      "cell_type": "code",
      "source": [
        "## UPDATE\n",
        "dict_update = [(\"country\", \"France\"), (\"capital\", \"Paris\"), (\"currency\", \"Euro\")]\n",
        "attributes.update(dict_update)\n",
        "print(attributes)"
      ],
      "metadata": {
        "colab": {
          "base_uri": "https://localhost:8080/"
        },
        "id": "8ks6BfF_Gj0q",
        "outputId": "ce8ecaa4-f9f0-42f8-9121-a836cc51b97b"
      },
      "execution_count": null,
      "outputs": [
        {
          "output_type": "stream",
          "name": "stdout",
          "text": [
            "{'country': 'France', 'capital': 'Paris', 'population': 6500000, 'continent': 'Europe', 'avg_sum_temp': 20.0, 'last_visit': None, 'geometry': 'geometry object', 'life_expect': 82, 'currency': 'Euro'}\n"
          ]
        }
      ]
    },
    {
      "cell_type": "code",
      "source": [
        "## CLEAR\n",
        "attributes.clear()\n",
        "print(attributes)"
      ],
      "metadata": {
        "colab": {
          "base_uri": "https://localhost:8080/"
        },
        "id": "o9e9WajcGxJb",
        "outputId": "a08de9aa-5d2b-47ba-9745-9623f95be97c"
      },
      "execution_count": null,
      "outputs": [
        {
          "output_type": "stream",
          "name": "stdout",
          "text": [
            "{}\n"
          ]
        }
      ]
    },
    {
      "cell_type": "code",
      "source": [
        "## 06.06 DICTIONARY MEMBERSHIP\n",
        "##  Check membership with in or not in.\n",
        "##  Membership will always return a Boolean; True of False.\n",
        "##\n",
        "################################################################################"
      ],
      "metadata": {
        "id": "jiHq-6HIJDx8"
      },
      "execution_count": null,
      "outputs": []
    },
    {
      "cell_type": "code",
      "source": [
        "attributes = {\n",
        "    \"country\" : \"Ireland\",\n",
        "    \"capital\" : \"Dublin\",\n",
        "    \"population\" : 6500000,\n",
        "    \"continent\" : \"Europe\",\n",
        "    \"avg_sum_temp\" : 20.0,\n",
        "    \"last_visit\" : None,\n",
        "    \"geometry\" : \"geometry object\",\n",
        "    \"life_expect\" : 82\n",
        "}"
      ],
      "metadata": {
        "id": "4dZu6t5zJNOw"
      },
      "execution_count": null,
      "outputs": []
    },
    {
      "cell_type": "code",
      "source": [
        "## check key membership with 'in' keyword\n",
        "print(\"country\" in attributes)"
      ],
      "metadata": {
        "colab": {
          "base_uri": "https://localhost:8080/"
        },
        "id": "EOdLm02ALFlB",
        "outputId": "54899bc8-5693-4a9f-cf7a-ec3e967e0a77"
      },
      "execution_count": null,
      "outputs": [
        {
          "output_type": "stream",
          "name": "stdout",
          "text": [
            "True\n"
          ]
        }
      ]
    },
    {
      "cell_type": "code",
      "source": [
        "key = \"capital\"\n",
        "print(key in attributes)"
      ],
      "metadata": {
        "colab": {
          "base_uri": "https://localhost:8080/"
        },
        "id": "_Gh3Sm5PLPGM",
        "outputId": "f2d6dd60-6e33-4b82-de04-449801991d9b"
      },
      "execution_count": null,
      "outputs": [
        {
          "output_type": "stream",
          "name": "stdout",
          "text": [
            "True\n"
          ]
        }
      ]
    },
    {
      "cell_type": "code",
      "source": [
        "print(key in attributes.keys())"
      ],
      "metadata": {
        "colab": {
          "base_uri": "https://localhost:8080/"
        },
        "id": "Jl14thxULWaB",
        "outputId": "1a489ad0-ef29-445c-c999-9786496b31f7"
      },
      "execution_count": null,
      "outputs": [
        {
          "output_type": "stream",
          "name": "stdout",
          "text": [
            "True\n"
          ]
        }
      ]
    },
    {
      "cell_type": "code",
      "source": [
        "## does its also check the values?\n",
        "print(\"Ireland\" in attributes)"
      ],
      "metadata": {
        "colab": {
          "base_uri": "https://localhost:8080/"
        },
        "id": "WimZEPfJLb5p",
        "outputId": "500c28c9-0cbe-4fdd-ec78-7dd75f658022"
      },
      "execution_count": null,
      "outputs": [
        {
          "output_type": "stream",
          "name": "stdout",
          "text": [
            "False\n"
          ]
        }
      ]
    },
    {
      "cell_type": "code",
      "source": [
        "## check key membership with 'not in' keywords\n",
        "print(\"country\" not in attributes)\n",
        "key = \"avg_age\"\n",
        "print(key not in attributes)"
      ],
      "metadata": {
        "colab": {
          "base_uri": "https://localhost:8080/"
        },
        "id": "nM_D6J-SQ6Db",
        "outputId": "04f6d88f-3105-4c83-8a29-25c1f871b893"
      },
      "execution_count": null,
      "outputs": [
        {
          "output_type": "stream",
          "name": "stdout",
          "text": [
            "False\n",
            "True\n"
          ]
        }
      ]
    },
    {
      "cell_type": "code",
      "source": [
        "## check value membership\n",
        "print(\"Ireland\" in attributes.values())\n",
        "print(\"France\" in attributes.values())"
      ],
      "metadata": {
        "colab": {
          "base_uri": "https://localhost:8080/"
        },
        "id": "5KkaDMPPREY1",
        "outputId": "11c3f3a7-ff9f-4256-d7f6-740ed90d7259"
      },
      "execution_count": null,
      "outputs": [
        {
          "output_type": "stream",
          "name": "stdout",
          "text": [
            "True\n",
            "False\n"
          ]
        }
      ]
    },
    {
      "cell_type": "code",
      "source": [
        "## Does a dictionary have a length?\n",
        "attributes = {\n",
        "    \"country\" : \"Ireland\",\n",
        "    \"capital\" : \"Dublin\",\n",
        "    \"population\" : 6500000,\n",
        "    \"continent\" : \"Europe\",\n",
        "    \"avg_sum_temp\" : 20.0,\n",
        "    \"last_visit\" : None,\n",
        "    \"geometry\" : \"geometry object\",\n",
        "    \"life_expect\" : 82\n",
        "}"
      ],
      "metadata": {
        "id": "APs4XQqgR8vt"
      },
      "execution_count": null,
      "outputs": []
    },
    {
      "cell_type": "code",
      "source": [
        "print(len(attributes))"
      ],
      "metadata": {
        "colab": {
          "base_uri": "https://localhost:8080/"
        },
        "id": "UanYfXKHSK3R",
        "outputId": "a4bbd3bf-4ee8-4c35-ac47-391edb81d4e4"
      },
      "execution_count": null,
      "outputs": [
        {
          "output_type": "stream",
          "name": "stdout",
          "text": [
            "8\n"
          ]
        }
      ]
    },
    {
      "cell_type": "code",
      "source": [
        "## 06.07 NESTED DICTIONARY\n",
        "##  Dictionary inception.\n",
        "##  You can have a dictionary inside and dictionary inside a dictionary.\n",
        "##  You will often see JSON resembling Python dictionaries.\n",
        "##\n",
        "################################################################################"
      ],
      "metadata": {
        "id": "wDsTJsgqSaYi"
      },
      "execution_count": null,
      "outputs": []
    },
    {
      "cell_type": "code",
      "source": [
        "pt_symbology = {\n",
        "    \"type\": \"simple\",\n",
        "    \"symbol\": {\n",
        "        \"type\": \"esriSMS\",\n",
        "        \"color\": [\n",
        "            250,\n",
        "            0,\n",
        "            0,\n",
        "            217\n",
        "        ],\n",
        "        \"angle\": 0,\n",
        "        \"xoffset\": 0,\n",
        "        \"yoffset\": 0,\n",
        "        \"size\": 6,\n",
        "        \"style\": \"esriSMSCircle\",\n",
        "        \"outline\": {\n",
        "            \"type\": \"esriSLS\",\n",
        "            \"color\": [\n",
        "                247,\n",
        "                109,\n",
        "                109,\n",
        "                128\n",
        "            ],\n",
        "            \"width\": 1.125,\n",
        "            \"style\": \"esriSLSSolid\"\n",
        "        }\n",
        "    }\n",
        "}"
      ],
      "metadata": {
        "id": "mhAKJGE4Ta_f"
      },
      "execution_count": null,
      "outputs": []
    },
    {
      "cell_type": "code",
      "source": [
        "## print the \"JSON\" dictionary\n",
        "print(pt_symbology)"
      ],
      "metadata": {
        "colab": {
          "base_uri": "https://localhost:8080/"
        },
        "id": "4wp5zNgjTe_n",
        "outputId": "7b565855-1df4-49f5-c07e-0bba53cb4aa7"
      },
      "execution_count": null,
      "outputs": [
        {
          "output_type": "stream",
          "name": "stdout",
          "text": [
            "{'type': 'simple', 'symbol': {'type': 'esriSMS', 'color': [250, 0, 0, 217], 'angle': 0, 'xoffset': 0, 'yoffset': 0, 'size': 6, 'style': 'esriSMSCircle', 'outline': {'type': 'esriSLS', 'color': [247, 109, 109, 128], 'width': 1.125, 'style': 'esriSLSSolid'}}}\n"
          ]
        }
      ]
    },
    {
      "cell_type": "code",
      "source": [
        "## print the keys and values\n",
        "print(pt_symbology.keys())\n",
        "print(pt_symbology.values())"
      ],
      "metadata": {
        "colab": {
          "base_uri": "https://localhost:8080/"
        },
        "id": "23cm5nj_Ujsa",
        "outputId": "36208bb4-df84-47ca-ac7d-967867793a49"
      },
      "execution_count": null,
      "outputs": [
        {
          "output_type": "stream",
          "name": "stdout",
          "text": [
            "dict_keys(['type', 'symbol'])\n",
            "dict_values(['simple', {'type': 'esriSMS', 'color': [250, 0, 0, 217], 'angle': 0, 'xoffset': 0, 'yoffset': 0, 'size': 6, 'style': 'esriSMSCircle', 'outline': {'type': 'esriSLS', 'color': [247, 109, 109, 128], 'width': 1.125, 'style': 'esriSLSSolid'}}])\n"
          ]
        }
      ]
    },
    {
      "cell_type": "code",
      "source": [
        "## print a nested dictionary key/values\n",
        "print(pt_symbology[\"symbol\"].keys())\n",
        "print(pt_symbology[\"symbol\"].values())"
      ],
      "metadata": {
        "colab": {
          "base_uri": "https://localhost:8080/"
        },
        "id": "-l-n8kedU7r1",
        "outputId": "03d236e3-98c2-4ff3-d823-ef83cb4020a6"
      },
      "execution_count": null,
      "outputs": [
        {
          "output_type": "stream",
          "name": "stdout",
          "text": [
            "dict_keys(['type', 'color', 'angle', 'xoffset', 'yoffset', 'size', 'style', 'outline'])\n",
            "dict_values(['esriSMS', [250, 0, 0, 217], 0, 0, 0, 6, 'esriSMSCircle', {'type': 'esriSLS', 'color': [247, 109, 109, 128], 'width': 1.125, 'style': 'esriSLSSolid'}])\n"
          ]
        }
      ]
    },
    {
      "cell_type": "code",
      "source": [
        "## a dictionary within a dictionary, within another dictionary\n",
        "print(pt_symbology[\"symbol\"][\"outline\"])\n",
        "print(pt_symbology[\"symbol\"][\"outline\"].keys())"
      ],
      "metadata": {
        "colab": {
          "base_uri": "https://localhost:8080/"
        },
        "id": "K_8kRCoYVQhW",
        "outputId": "85be73db-8207-4386-8d6e-2c9f235fcb51"
      },
      "execution_count": null,
      "outputs": [
        {
          "output_type": "stream",
          "name": "stdout",
          "text": [
            "{'type': 'esriSLS', 'color': [247, 109, 109, 128], 'width': 1.125, 'style': 'esriSLSSolid'}\n",
            "dict_keys(['type', 'color', 'width', 'style'])\n"
          ]
        }
      ]
    },
    {
      "cell_type": "code",
      "source": [
        "## 06.08 IMMUTABLE DICTIONARY KEYS\n",
        "##  A dictionary key must be an immutable object such as number, string, tuple.\n",
        "##  For example, a key cannot be a list or another dictionary because these\n",
        "##  are mutable objects.\n",
        "##\n",
        "################################################################################"
      ],
      "metadata": {
        "id": "w-3pji_gdDks"
      },
      "execution_count": null,
      "outputs": []
    },
    {
      "cell_type": "code",
      "source": [
        "## immutable keys\n",
        "a_dict = {1 : \"\"}"
      ],
      "metadata": {
        "id": "NMG8EJVVq27G"
      },
      "execution_count": 1,
      "outputs": []
    },
    {
      "cell_type": "code",
      "source": [
        "a_dict = {1 : \"\", 1.5 : \"\"}"
      ],
      "metadata": {
        "id": "qxIV7JYGrmPQ"
      },
      "execution_count": 2,
      "outputs": []
    },
    {
      "cell_type": "code",
      "source": [
        "a_dict = {1 : \"\", 1.5 : \"\", True : \"\"}"
      ],
      "metadata": {
        "id": "A2pFyyRSrrNL"
      },
      "execution_count": 3,
      "outputs": []
    },
    {
      "cell_type": "code",
      "source": [
        "a_dict = {1 : \"\", 1.5 : \"\", True : \"\", \"string\" : \"\"}"
      ],
      "metadata": {
        "id": "O5o1Qatzryu8"
      },
      "execution_count": 4,
      "outputs": []
    },
    {
      "cell_type": "code",
      "source": [
        "a_dict = {1 : \"\", 1.5 : \"\", True : \"\", \"string\" : \"\", (0,0) : \"\"}"
      ],
      "metadata": {
        "id": "wmSpkAK2r4wo"
      },
      "execution_count": 5,
      "outputs": []
    },
    {
      "cell_type": "code",
      "source": [
        "## mutable keys\n",
        "## TypeError: unhashable type: 'list'\n",
        "## a_dict = {1 : \"\", 1.5 : \"\", True : \"\", \"string\" : \"\", (0,0) : \"\", [0,0] : \"\"}"
      ],
      "metadata": {
        "id": "EN1PY0lzsLdk"
      },
      "execution_count": 7,
      "outputs": []
    },
    {
      "cell_type": "code",
      "source": [
        "## mutable keys\n",
        "## TypeError: unhashable type: 'dict'\n",
        "## a_dict = {1 : \"\", 1.5 : \"\", True : \"\", \"string\" : \"\", (0,0) : \"\", {0:0} : \"\"}"
      ],
      "metadata": {
        "id": "HgECXcFWsVm3"
      },
      "execution_count": 9,
      "outputs": []
    }
  ]
}