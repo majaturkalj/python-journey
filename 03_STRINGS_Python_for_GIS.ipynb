{
  "nbformat": 4,
  "nbformat_minor": 0,
  "metadata": {
    "colab": {
      "provenance": [],
      "authorship_tag": "ABX9TyMicR4T9YyG343Xke8ZNdDG",
      "include_colab_link": true
    },
    "kernelspec": {
      "name": "python3",
      "display_name": "Python 3"
    },
    "language_info": {
      "name": "python"
    }
  },
  "cells": [
    {
      "cell_type": "markdown",
      "metadata": {
        "id": "view-in-github",
        "colab_type": "text"
      },
      "source": [
        "<a href=\"https://colab.research.google.com/github/majaturkalj/python-journey/blob/main/03_STRINGS_Python_for_GIS.ipynb\" target=\"_parent\"><img src=\"https://colab.research.google.com/assets/colab-badge.svg\" alt=\"Open In Colab\"/></a>"
      ]
    },
    {
      "cell_type": "code",
      "execution_count": null,
      "metadata": {
        "id": "gBxeZUuJbUlS"
      },
      "outputs": [],
      "source": [
        "################################################################################\n",
        "## STRINGS\n",
        "##  - A string is enclosed in single '', double \"\", or triple \"\"\" quotation marks.\n",
        "##  - A string is a finite sequence of characters. Characters can be letter,\n",
        "##    numbers, symbols, and spaces.\n",
        "##  - A string is immutable, it cannot be altered in place. Once defined, the\n",
        "##    string variable needs to be overwritten in order to alter.\n",
        "##  - A string is iterable, you can cycle through each character in the string\n",
        "##    individually.\n",
        "##\n",
        "##  Reference: https://www.w3schools.com/python/python_strings.asp\n",
        "##\n",
        "################################################################################"
      ]
    },
    {
      "cell_type": "code",
      "source": [
        "## ASSIGN A STRING TO A VARIABLE\n",
        "##  TIP: use double quotation marks as the default when assigning\n",
        "##  strings. Often, with GIS data, you need to filter data using SQL type\n",
        "##  expressions, for example \"CITYNAME = 'Dublin'\"\n",
        "city = \"Dublin\"\n",
        "print(city)\n",
        "\n",
        "sql_exp = \"COUNTY = 'Dublin'\"\n",
        "print(city)"
      ],
      "metadata": {
        "colab": {
          "base_uri": "https://localhost:8080/"
        },
        "id": "VyqPZfizfJ9c",
        "outputId": "640953aa-662a-4106-bdbc-b0b8306ef554"
      },
      "execution_count": null,
      "outputs": [
        {
          "output_type": "stream",
          "name": "stdout",
          "text": [
            "Dublin\n",
            "Dublin\n"
          ]
        }
      ]
    },
    {
      "cell_type": "code",
      "source": [
        "## AN EMPTY STRING\n",
        "##  Important to note that empty does not equate to None.\n",
        "none = None\n",
        "empty = \"\"\n",
        "print(none)\n",
        "print(empty)"
      ],
      "metadata": {
        "colab": {
          "base_uri": "https://localhost:8080/"
        },
        "id": "m60zhZEVsqQp",
        "outputId": "162a8d19-f19e-4f23-bb74-8092b878a0cd"
      },
      "execution_count": 1,
      "outputs": [
        {
          "output_type": "stream",
          "name": "stdout",
          "text": [
            "None\n",
            "\n"
          ]
        }
      ]
    },
    {
      "cell_type": "code",
      "source": [
        "## MULTILINE STRING\n",
        "##  Enclose string with triple single quotes '''string''' or triple double\n",
        "##  quotes \"\"\"string\"\"\"\n",
        "\n",
        "description = '''Dublin is the capital of Ireland situated at the head of\n",
        "Dublin Bay on the Irish Sea. The city is divided north and south by\n",
        "the River Liffey'''\n",
        "print(description)\n",
        "\n",
        "description = \"\"\"Dublin is the capital of Ireland situated at the head of\n",
        "Dublin Bay on the Irish Sea. The city is divided north and south by\n",
        "the River Liffey\"\"\"\n",
        "print(description)"
      ],
      "metadata": {
        "id": "GqItZddWtTDR"
      },
      "execution_count": null,
      "outputs": []
    },
    {
      "cell_type": "code",
      "source": [
        "## str()\n",
        "\n",
        "city = str(\"Dublin\")\n",
        "longitude = str(-6.2603) # cast a float to a string\n",
        "latitude = str(53) # cast an integer to a string\n",
        "print(city)\n",
        "print(type(longitude))\n",
        "print(type(latitude))"
      ],
      "metadata": {
        "colab": {
          "base_uri": "https://localhost:8080/"
        },
        "id": "lKv_wkJg861B",
        "outputId": "9eec5a6d-1066-4c53-d82d-4ae0b68b8f56"
      },
      "execution_count": 3,
      "outputs": [
        {
          "output_type": "stream",
          "name": "stdout",
          "text": [
            "Dublin\n",
            "<class 'str'>\n",
            "<class 'str'>\n"
          ]
        }
      ]
    },
    {
      "cell_type": "code",
      "source": [
        "################################################################################\n",
        "## CREATE A PYTHON SCRIPT\n",
        "## add the following lines of code and run. What happened and why?\n",
        "\n",
        "\"Did this print?\"\n",
        "'or this?'\n",
        "\"\"\"what about this?\"\"\"\n",
        "'''or even this?'''"
      ],
      "metadata": {
        "id": "yhgfJ0cd9F1o"
      },
      "execution_count": null,
      "outputs": []
    },
    {
      "cell_type": "code",
      "source": [
        "print(\"Did this print?\")\n",
        "print('or this?')\n",
        "print(\"\"\"what about this?\"\"\")\n",
        "print('''or even this?''')"
      ],
      "metadata": {
        "colab": {
          "base_uri": "https://localhost:8080/"
        },
        "id": "jcFRIQVB9LhL",
        "outputId": "c936c052-e060-4513-c4ba-1c4bb8ed88f3"
      },
      "execution_count": 4,
      "outputs": [
        {
          "output_type": "stream",
          "name": "stdout",
          "text": [
            "Did this print?\n",
            "or this?\n",
            "what about this?\n",
            "or even this?\n"
          ]
        }
      ]
    }
  ]
}