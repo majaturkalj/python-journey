{
  "nbformat": 4,
  "nbformat_minor": 0,
  "metadata": {
    "colab": {
      "provenance": [],
      "authorship_tag": "ABX9TyPSFknk0ujXoIczGBKlxVyO",
      "include_colab_link": true
    },
    "kernelspec": {
      "name": "python3",
      "display_name": "Python 3"
    },
    "language_info": {
      "name": "python"
    }
  },
  "cells": [
    {
      "cell_type": "markdown",
      "metadata": {
        "id": "view-in-github",
        "colab_type": "text"
      },
      "source": [
        "<a href=\"https://colab.research.google.com/github/majaturkalj/python-journey/blob/main/03_STRINGS_Python_for_GIS.ipynb\" target=\"_parent\"><img src=\"https://colab.research.google.com/assets/colab-badge.svg\" alt=\"Open In Colab\"/></a>"
      ]
    },
    {
      "cell_type": "code",
      "execution_count": null,
      "metadata": {
        "id": "gBxeZUuJbUlS"
      },
      "outputs": [],
      "source": [
        "################################################################################\n",
        "## STRINGS\n",
        "##  - A string is enclosed in single '', double \"\", or triple \"\"\" quotation marks.\n",
        "##  - A string is a finite sequence of characters. Characters can be letter,\n",
        "##    numbers, symbols, and spaces.\n",
        "##  - A string is immutable, it cannot be altered in place. Once defined, the\n",
        "##    string variable needs to be overwritten in order to alter.\n",
        "##  - A string is iterable, you can cycle through each character in the string\n",
        "##    individually.\n",
        "##\n",
        "##  Reference: https://www.w3schools.com/python/python_strings.asp\n",
        "##\n",
        "################################################################################"
      ]
    },
    {
      "cell_type": "code",
      "source": [],
      "metadata": {
        "id": "VyqPZfizfJ9c"
      },
      "execution_count": null,
      "outputs": []
    }
  ]
}