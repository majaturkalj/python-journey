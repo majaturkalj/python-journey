{
  "nbformat": 4,
  "nbformat_minor": 0,
  "metadata": {
    "colab": {
      "provenance": [],
      "authorship_tag": "ABX9TyOct5w/N9mDxc18JlP3U9Ne",
      "include_colab_link": true
    },
    "kernelspec": {
      "name": "python3",
      "display_name": "Python 3"
    },
    "language_info": {
      "name": "python"
    }
  },
  "cells": [
    {
      "cell_type": "markdown",
      "metadata": {
        "id": "view-in-github",
        "colab_type": "text"
      },
      "source": [
        "<a href=\"https://colab.research.google.com/github/majaturkalj/python-journey/blob/main/07_SETS_Python_for_GIS.ipynb\" target=\"_parent\"><img src=\"https://colab.research.google.com/assets/colab-badge.svg\" alt=\"Open In Colab\"/></a>"
      ]
    },
    {
      "cell_type": "code",
      "execution_count": null,
      "metadata": {
        "id": "FAq7Pgzn0mZz"
      },
      "outputs": [],
      "source": [
        "################################################################################\n",
        "## SETS\n",
        "##  Sets are fantastic for getting unique values as they can only store distinct\n",
        "##  values.\n",
        "##  A set is an unordered collection of unique values/objects\n",
        "##  Sets are mutable\n",
        "##  Sets must only contain immutable objects\n",
        "##\n",
        "################################################################################"
      ]
    },
    {
      "cell_type": "code",
      "source": [
        "## 07.01 CREATING A SET\n",
        "## DECLARING A SET\n",
        "## empty set\n",
        "empty_set = set()\n",
        "print(type(empty_set))\n",
        "print(empty_set)"
      ],
      "metadata": {
        "id": "z-kmqWZ_oOhl",
        "colab": {
          "base_uri": "https://localhost:8080/"
        },
        "outputId": "c22defc9-98b0-4e9c-efe7-4a575dc4a62f"
      },
      "execution_count": null,
      "outputs": [
        {
          "output_type": "stream",
          "name": "stdout",
          "text": [
            "<class 'set'>\n",
            "set()\n"
          ]
        }
      ]
    },
    {
      "cell_type": "code",
      "source": [
        "## populated set\n",
        "num_set = {1,2,3,4,5}\n",
        "print(num_set)"
      ],
      "metadata": {
        "colab": {
          "base_uri": "https://localhost:8080/"
        },
        "id": "3l0P6iPBgO9X",
        "outputId": "95d81165-5668-474b-f44f-8ac6f0167f19"
      },
      "execution_count": null,
      "outputs": [
        {
          "output_type": "stream",
          "name": "stdout",
          "text": [
            "{1, 2, 3, 4, 5}\n"
          ]
        }
      ]
    },
    {
      "cell_type": "code",
      "source": [
        "num_set = {2,1,4,5,2,3,1,1,2,4,5}\n",
        "print(num_set)"
      ],
      "metadata": {
        "colab": {
          "base_uri": "https://localhost:8080/"
        },
        "id": "BAmDVl4uguKO",
        "outputId": "82a9c166-5e31-4978-fe2b-792fbe9df49d"
      },
      "execution_count": null,
      "outputs": [
        {
          "output_type": "stream",
          "name": "stdout",
          "text": [
            "{1, 2, 3, 4, 5}\n"
          ]
        }
      ]
    },
    {
      "cell_type": "code",
      "source": [
        "mixed_set = {\"string\", (1,2), 10, 175.9}\n",
        "print(mixed_set)"
      ],
      "metadata": {
        "colab": {
          "base_uri": "https://localhost:8080/"
        },
        "id": "b8-ToOKWgxox",
        "outputId": "a4774652-9f12-4220-e8e8-7f337558db73"
      },
      "execution_count": null,
      "outputs": [
        {
          "output_type": "stream",
          "name": "stdout",
          "text": [
            "{10, (1, 2), 'string', 175.9}\n"
          ]
        }
      ]
    },
    {
      "cell_type": "code",
      "source": [
        "## CAST AN ITERABLE TO A SET\n",
        "counties_list = [\"Kildare\", \"Dublin\", \"Carlow\", \"Meath\", \"Kildare\", \"Meath\"]\n",
        "counties_set = set(counties_list)\n",
        "print(counties_set)"
      ],
      "metadata": {
        "colab": {
          "base_uri": "https://localhost:8080/"
        },
        "id": "KJkiY_pAg5Wx",
        "outputId": "89105385-5ce1-4c25-b8b8-9fd8b87f7b2a"
      },
      "execution_count": null,
      "outputs": [
        {
          "output_type": "stream",
          "name": "stdout",
          "text": [
            "{'Meath', 'Kildare', 'Dublin', 'Carlow'}\n"
          ]
        }
      ]
    },
    {
      "cell_type": "code",
      "source": [
        "## 07.02 CREATING A SETS FROM ITERABLES\n",
        "## SETS FROM ITERABLES\n",
        "##  Cast an interable to a set\n",
        "##  The set() can take an iterable as a parameter"
      ],
      "metadata": {
        "id": "D_-5hvvdmzVY"
      },
      "execution_count": null,
      "outputs": []
    },
    {
      "cell_type": "code",
      "source": [
        "## CAST FROM STRING\n",
        "text = \"Final Draft Mapping is the place to be for technical geospatial training\"\n",
        "unique_letters = set(text)\n",
        "print(unique_letters)"
      ],
      "metadata": {
        "colab": {
          "base_uri": "https://localhost:8080/"
        },
        "id": "XU8NDeRCn3k6",
        "outputId": "74dd5b69-9b8d-4df3-ee20-11e72ab273cc"
      },
      "execution_count": null,
      "outputs": [
        {
          "output_type": "stream",
          "name": "stdout",
          "text": [
            "{'f', 'D', 'h', 'c', 'i', 'p', 't', 'e', 'M', 'n', ' ', 'l', 'a', 'o', 'b', 'r', 'g', 's', 'F'}\n"
          ]
        }
      ]
    },
    {
      "cell_type": "code",
      "source": [
        "## CAST FROM TUPLE\n",
        "coords = ((-6.27, 53.45), (-7.5, 54.87), (-6.27, 53.45), (-6.27, 53.45))\n",
        "unique_pts = set(coords)\n",
        "print(unique_pts)"
      ],
      "metadata": {
        "colab": {
          "base_uri": "https://localhost:8080/"
        },
        "id": "MFDQGo-zoH-b",
        "outputId": "f171dbe0-560a-4a3b-a051-8f48c14865e3"
      },
      "execution_count": null,
      "outputs": [
        {
          "output_type": "stream",
          "name": "stdout",
          "text": [
            "{(-7.5, 54.87), (-6.27, 53.45)}\n"
          ]
        }
      ]
    },
    {
      "cell_type": "code",
      "source": [
        "## CAST FROM LIST\n",
        "counties_list = [\"Kildare\", \"Dublin\", \"Carlow\", \"Meath\", \"Kildare\", \"Meath\"]\n",
        "counties_set = set(counties_list)\n",
        "print(counties_set)"
      ],
      "metadata": {
        "colab": {
          "base_uri": "https://localhost:8080/"
        },
        "id": "KmhoWB4hoV2C",
        "outputId": "e8c85615-4bdb-4fd4-c110-32201583d724"
      },
      "execution_count": null,
      "outputs": [
        {
          "output_type": "stream",
          "name": "stdout",
          "text": [
            "{'Meath', 'Kildare', 'Dublin', 'Carlow'}\n"
          ]
        }
      ]
    },
    {
      "cell_type": "code",
      "source": [
        "## CREATE SET USEING SET()\n",
        "## this will error with a TypeError\n",
        "## my_set = set(1,2,3,4,5)\n",
        "## needs to be an iterable\n",
        "my_set = set([1,2,3,4,5])"
      ],
      "metadata": {
        "id": "wAGxwqzkpgcz"
      },
      "execution_count": null,
      "outputs": []
    },
    {
      "cell_type": "code",
      "source": [
        "## 07.03 SET OPERATIONS\n",
        "## SET OPERATIONS\n",
        "##  | (union)\n",
        "##      Uniques values across Set1 and Set2 (or multiple sets)\n",
        "##  & (intersection)\n",
        "##      Common values from Set1 and Set2 (or multiple sets)\n",
        "##  - (difference)\n",
        "##      Set1 without the values of Set2\n",
        "##  ^ (symmetrical difference)\n",
        "##      The union of sets without the common values. The opposite of intersection\n",
        "##\n",
        "## Reference: https://www.w3schools.com/python/python_ref_set.asp"
      ],
      "metadata": {
        "id": "BAxHEASpqPH8"
      },
      "execution_count": null,
      "outputs": []
    },
    {
      "cell_type": "code",
      "source": [
        "num_set_1 = {1,2,3,4,5}\n",
        "num_set_2 = {4,5,6,7,8}\n",
        "\n",
        "## UNION\n",
        "union = num_set_1 | num_set_2\n",
        "print(union)"
      ],
      "metadata": {
        "colab": {
          "base_uri": "https://localhost:8080/"
        },
        "id": "0ZuhxyrMqYIE",
        "outputId": "3fac90ac-1c32-491f-898f-4f2dccc7167b"
      },
      "execution_count": null,
      "outputs": [
        {
          "output_type": "stream",
          "name": "stdout",
          "text": [
            "{1, 2, 3, 4, 5, 6, 7, 8}\n"
          ]
        }
      ]
    },
    {
      "cell_type": "code",
      "source": [
        "## INTERSECTION\n",
        "intersection = num_set_1 & num_set_2\n",
        "print(intersection)"
      ],
      "metadata": {
        "colab": {
          "base_uri": "https://localhost:8080/"
        },
        "id": "vrSV_RnjqpwW",
        "outputId": "503b3614-dd21-40df-9586-b223e9ab80f4"
      },
      "execution_count": null,
      "outputs": [
        {
          "output_type": "stream",
          "name": "stdout",
          "text": [
            "{4, 5}\n"
          ]
        }
      ]
    },
    {
      "cell_type": "code",
      "source": [
        "## DIFFERENCE\n",
        "difference = num_set_1 - num_set_2\n",
        "print(difference)"
      ],
      "metadata": {
        "colab": {
          "base_uri": "https://localhost:8080/"
        },
        "id": "PbL7AJ7Kqt5U",
        "outputId": "3d9e03b0-a055-47ba-cdb8-16bf9d6ca3ee"
      },
      "execution_count": null,
      "outputs": [
        {
          "output_type": "stream",
          "name": "stdout",
          "text": [
            "{1, 2, 3}\n"
          ]
        }
      ]
    },
    {
      "cell_type": "code",
      "source": [
        "## SYMMETRICAL DIFFERENCE\n",
        "sym_difference = num_set_1 ^ num_set_2\n",
        "print(sym_difference)"
      ],
      "metadata": {
        "colab": {
          "base_uri": "https://localhost:8080/"
        },
        "id": "WDGhCjERq26t",
        "outputId": "84162ebe-668b-4acc-e6d2-550a57b059f2"
      },
      "execution_count": null,
      "outputs": [
        {
          "output_type": "stream",
          "name": "stdout",
          "text": [
            "{1, 2, 3, 6, 7, 8}\n"
          ]
        }
      ]
    },
    {
      "cell_type": "code",
      "source": [
        "## 07.04 SET MEMBERSHIP\n",
        "## SET LENGTH & MEMBERSHIP\n",
        "## Check membership with in or not in, always returns a Boolean"
      ],
      "metadata": {
        "id": "LQKaFbZ50mLL"
      },
      "execution_count": null,
      "outputs": []
    },
    {
      "cell_type": "code",
      "source": [
        "counties_set = {\"Meath\", \"Dublin\", \"Kildare\", \"Carlow\"}\n",
        "print(len(counties_set))"
      ],
      "metadata": {
        "id": "mZgHW-6G01aZ",
        "outputId": "753ee70b-00b8-47ab-8e2e-de204c9bfbf1",
        "colab": {
          "base_uri": "https://localhost:8080/"
        }
      },
      "execution_count": null,
      "outputs": [
        {
          "output_type": "stream",
          "name": "stdout",
          "text": [
            "4\n"
          ]
        }
      ]
    },
    {
      "cell_type": "code",
      "source": [
        "## check membership with 'in' keyword\n",
        "counties_set = {\"Meath\", \"Dublin\", \"Kildare\", \"Carlow\"}\n",
        "print(\"Kildare\" in counties_set)\n"
      ],
      "metadata": {
        "colab": {
          "base_uri": "https://localhost:8080/"
        },
        "id": "GCuP1s59EZo8",
        "outputId": "38eca8f3-680a-42e4-9ae6-3143d39f1400"
      },
      "execution_count": null,
      "outputs": [
        {
          "output_type": "stream",
          "name": "stdout",
          "text": [
            "True\n"
          ]
        }
      ]
    },
    {
      "cell_type": "code",
      "source": [
        "counties_set = {\"Meath\", \"Dublin\", \"Kildare\", \"Carlow\"}\n",
        "county = \"Sligo\"\n",
        "print(county in counties_set)"
      ],
      "metadata": {
        "colab": {
          "base_uri": "https://localhost:8080/"
        },
        "id": "mAIsl1m_F4I2",
        "outputId": "0fc7af6e-eb66-41e1-b30d-1dcfdba6235d"
      },
      "execution_count": null,
      "outputs": [
        {
          "output_type": "stream",
          "name": "stdout",
          "text": [
            "False\n"
          ]
        }
      ]
    },
    {
      "cell_type": "code",
      "source": [
        "## check membership with 'not in' keywords\n",
        "counties_set = {\"Meath\", \"Dublin\", \"Kildare\", \"Carlow\"}\n",
        "print(\"Kildare\" not in counties_set)\n"
      ],
      "metadata": {
        "colab": {
          "base_uri": "https://localhost:8080/"
        },
        "id": "mi0wkqndMXm-",
        "outputId": "c6211036-2fce-484e-ef83-d15d2aef615c"
      },
      "execution_count": null,
      "outputs": [
        {
          "output_type": "stream",
          "name": "stdout",
          "text": [
            "False\n"
          ]
        }
      ]
    },
    {
      "cell_type": "code",
      "source": [
        "## check membership with 'not in' keywords\n",
        "counties_set = {\"Meath\", \"Dublin\", \"Kildare\", \"Carlow\"}\n",
        "county = \"Sligo\"\n",
        "print(county not in counties_set)"
      ],
      "metadata": {
        "colab": {
          "base_uri": "https://localhost:8080/"
        },
        "id": "eeHwOSPkMtnJ",
        "outputId": "8440fa83-df5f-4161-ce72-d966c17b5938"
      },
      "execution_count": null,
      "outputs": [
        {
          "output_type": "stream",
          "name": "stdout",
          "text": [
            "True\n"
          ]
        }
      ]
    },
    {
      "cell_type": "code",
      "source": [
        "my_set = {\"Kildare\"}\n",
        "counties_set = {\"Meath\", \"Dublin\", \"Kildare\", \"Carlow\"}\n",
        "print(my_set.issubset(counties_set))"
      ],
      "metadata": {
        "colab": {
          "base_uri": "https://localhost:8080/"
        },
        "id": "wNJh-qrgM-QU",
        "outputId": "6f8ba2e6-dc88-4a31-c96d-3e84c5f95d98"
      },
      "execution_count": null,
      "outputs": [
        {
          "output_type": "stream",
          "name": "stdout",
          "text": [
            "True\n"
          ]
        }
      ]
    },
    {
      "cell_type": "code",
      "source": [
        "## 07.05 SET METHODS\n",
        "## Set methods in Python are built-in functions that are specific to\n",
        "## sets and allow you to perform various operations on set\n",
        "## objects. These methods provide convenient ways to manipulate and extract\n",
        "## information from a set, along with performing set operations."
      ],
      "metadata": {
        "id": "ZbtBjdOkODnZ"
      },
      "execution_count": null,
      "outputs": []
    },
    {
      "cell_type": "code",
      "source": [
        "counties_set_1 = {\"Kildare\", \"Dublin\", \"Carlow\", \"Meath\", \"Sligo\"}\n",
        "counties_set_2 = {\"Wateford\", \"Sligo\", \"Donegal\", \"Cork\", \"Carlow\"}\n",
        "\n",
        "################################################################################\n",
        "## cannot access with indexing\n",
        "## this will throw an error.\n",
        "print(counties_set_1[2])"
      ],
      "metadata": {
        "id": "Y8esjiTznZhn"
      },
      "execution_count": null,
      "outputs": []
    },
    {
      "cell_type": "code",
      "source": [
        "## add()\n",
        "counties_set_1 = {\"Kildare\", \"Dublin\", \"Carlow\", \"Meath\", \"Sligo\"}\n",
        "counties_set_1.add(\"Cork\")\n",
        "print(counties_set_1)"
      ],
      "metadata": {
        "colab": {
          "base_uri": "https://localhost:8080/"
        },
        "id": "sZImG479rUR4",
        "outputId": "176b6b32-fc07-4e2d-af10-aa1919776810"
      },
      "execution_count": null,
      "outputs": [
        {
          "output_type": "stream",
          "name": "stdout",
          "text": [
            "{'Kildare', 'Sligo', 'Carlow', 'Cork', 'Dublin', 'Meath'}\n"
          ]
        }
      ]
    },
    {
      "cell_type": "code",
      "source": [
        "## remove()\n",
        "counties_set_1 = {\"Kildare\", \"Dublin\", \"Carlow\", \"Meath\", \"Sligo\"}\n",
        "counties_set_1.remove(\"Dublin\")\n",
        "print(counties_set_1)"
      ],
      "metadata": {
        "colab": {
          "base_uri": "https://localhost:8080/"
        },
        "id": "QqPqs1Yjr0cQ",
        "outputId": "17b8c4cf-e3dd-440b-bcd5-43529bf2ae3d"
      },
      "execution_count": null,
      "outputs": [
        {
          "output_type": "stream",
          "name": "stdout",
          "text": [
            "{'Kildare', 'Sligo', 'Carlow', 'Meath'}\n"
          ]
        }
      ]
    },
    {
      "cell_type": "code",
      "source": [
        "## union() (|)\n",
        "counties_set_3 = {\"Kildare\", \"Dublin\", \"Carlow\", \"Meath\", \"Sligo\"}\n",
        "counties_set_4 = {\"Wateford\", \"Sligo\", \"Donegal\", \"Cork\", \"Carlow\"}\n",
        "union = counties_set_3.union(counties_set_4)\n",
        "print(union)"
      ],
      "metadata": {
        "colab": {
          "base_uri": "https://localhost:8080/"
        },
        "id": "b-G6nCUvttNv",
        "outputId": "55a48f95-1ad0-4ca3-b8e2-83bf5d8a4eb3"
      },
      "execution_count": null,
      "outputs": [
        {
          "output_type": "stream",
          "name": "stdout",
          "text": [
            "{'Kildare', 'Carlow', 'Dublin', 'Meath', 'Cork', 'Donegal', 'Sligo', 'Wateford'}\n"
          ]
        }
      ]
    },
    {
      "cell_type": "code",
      "source": [
        "## intersection() (&)\n",
        "counties_set_5 = {\"Kildare\", \"Dublin\", \"Carlow\", \"Meath\", \"Sligo\"}\n",
        "counties_set_6 = {\"Wateford\", \"Sligo\", \"Donegal\", \"Cork\", \"Carlow\"}\n",
        "intersection = counties_set_5.intersection(counties_set_6)\n",
        "print(intersection)"
      ],
      "metadata": {
        "colab": {
          "base_uri": "https://localhost:8080/"
        },
        "id": "zk2rukSZupw7",
        "outputId": "b96638b9-ca94-4a87-cc4e-56a7933c0d39"
      },
      "execution_count": null,
      "outputs": [
        {
          "output_type": "stream",
          "name": "stdout",
          "text": [
            "{'Carlow', 'Sligo'}\n"
          ]
        }
      ]
    },
    {
      "cell_type": "code",
      "source": [
        "counties_set_7 = {\"Kildare\", \"Dublin\", \"Carlow\", \"Meath\", \"Sligo\", \"Cork\"}\n",
        "counties_set_8 = {\"Wateford\", \"Sligo\", \"Donegal\", \"Cork\", \"Carlow\"}\n",
        "## intersection_update()\n",
        "counties_set_7.intersection_update(counties_set_8)\n",
        "print(counties_set_7)"
      ],
      "metadata": {
        "colab": {
          "base_uri": "https://localhost:8080/"
        },
        "id": "YV8HplYNxIH0",
        "outputId": "2ae7fc52-9e77-4b5f-c2e9-40a344d2ea01"
      },
      "execution_count": null,
      "outputs": [
        {
          "output_type": "stream",
          "name": "stdout",
          "text": [
            "{'Sligo', 'Carlow', 'Cork'}\n"
          ]
        }
      ]
    },
    {
      "cell_type": "code",
      "source": [
        "## 07.06 FROZEN SETS\n",
        "##  Python also provides an immutable variant of sets called \"frozensets\" which\n",
        "##  are created using the frozenset() constructor. Frozen sets are hashable\n",
        "##  meaning they can be used as dictionary keys or elements of other sets."
      ],
      "metadata": {
        "id": "T5tNI6H0zLug"
      },
      "execution_count": null,
      "outputs": []
    },
    {
      "cell_type": "code",
      "source": [
        "## CREATING A FROZEN SET\n",
        "frozen_numset = frozenset({1,2,3,4,5})\n",
        "print(type(frozen_numset))\n",
        "print(frozen_numset)"
      ],
      "metadata": {
        "colab": {
          "base_uri": "https://localhost:8080/"
        },
        "id": "rSaDNfX0z-0I",
        "outputId": "9c5aa524-2874-4274-c069-0508b8d2e19f"
      },
      "execution_count": 1,
      "outputs": [
        {
          "output_type": "stream",
          "name": "stdout",
          "text": [
            "<class 'frozenset'>\n",
            "frozenset({1, 2, 3, 4, 5})\n"
          ]
        }
      ]
    },
    {
      "cell_type": "code",
      "source": [
        "## this will throw an AttributeError\n",
        "##frozen_numset.add(6)\n",
        "\n",
        "## this will throw a type error\n",
        "##numset.add({1,2,3})"
      ],
      "metadata": {
        "id": "JMD3kFbu2UBM"
      },
      "execution_count": null,
      "outputs": []
    },
    {
      "cell_type": "code",
      "source": [
        "numset = {6,7,8,9,10}\n",
        "numset.add(frozen_numset)\n",
        "print(numset)"
      ],
      "metadata": {
        "colab": {
          "base_uri": "https://localhost:8080/"
        },
        "id": "p3vvi__X2YOr",
        "outputId": "b05a9fc1-9b88-408b-930c-343973cc04b7"
      },
      "execution_count": 3,
      "outputs": [
        {
          "output_type": "stream",
          "name": "stdout",
          "text": [
            "{frozenset({1, 2, 3, 4, 5}), 6, 7, 8, 9, 10}\n"
          ]
        }
      ]
    }
  ]
}