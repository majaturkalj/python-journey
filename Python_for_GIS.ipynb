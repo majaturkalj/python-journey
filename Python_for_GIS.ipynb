{
  "nbformat": 4,
  "nbformat_minor": 0,
  "metadata": {
    "colab": {
      "provenance": [],
      "authorship_tag": "ABX9TyNp9u04RU2+hia+PGK/+xUk",
      "include_colab_link": true
    },
    "kernelspec": {
      "name": "python3",
      "display_name": "Python 3"
    },
    "language_info": {
      "name": "python"
    }
  },
  "cells": [
    {
      "cell_type": "markdown",
      "metadata": {
        "id": "view-in-github",
        "colab_type": "text"
      },
      "source": [
        "<a href=\"https://colab.research.google.com/github/majaturkalj/python-journey/blob/main/Python_for_GIS.ipynb\" target=\"_parent\"><img src=\"https://colab.research.google.com/assets/colab-badge.svg\" alt=\"Open In Colab\"/></a>"
      ]
    },
    {
      "cell_type": "markdown",
      "source": [
        "VARIABLES"
      ],
      "metadata": {
        "id": "FIWNIKv2yYVJ"
      }
    },
    {
      "cell_type": "code",
      "execution_count": null,
      "metadata": {
        "id": "qcIx59T3rOf5"
      },
      "outputs": [],
      "source": [
        "#VARIABLES\n",
        "population = 5000000\n",
        "country = \"Ireland\"\n",
        "animal = \"Dog\"\n",
        "colour = \"Green\"\n",
        "\n",
        "#Assigning Multiple Variables on a Single Line\n",
        "population, country, animal, colour = 500000, \"Ireland\", \"dog\", \"Green\"\n"
      ]
    },
    {
      "cell_type": "markdown",
      "source": [
        "PRINT FUNCTION"
      ],
      "metadata": {
        "id": "2s-KhvB-yHfU"
      }
    },
    {
      "cell_type": "code",
      "source": [
        "# print using a string literal\n",
        "print(\"Hello, Geospatial World\")"
      ],
      "metadata": {
        "colab": {
          "base_uri": "https://localhost:8080/"
        },
        "id": "w8-CagmtyAJN",
        "outputId": "24eec61d-eb66-4f3e-d089-0974b02c185c"
      },
      "execution_count": null,
      "outputs": [
        {
          "output_type": "stream",
          "name": "stdout",
          "text": [
            "Hello, Geospatial World\n"
          ]
        }
      ]
    },
    {
      "cell_type": "code",
      "source": [
        "# use the sep parameter\n",
        "print(\"Hello, Geospatial World\", \"my name is Glen\", sep=\"-\")\n"
      ],
      "metadata": {
        "id": "NEaS-4puy9YK",
        "outputId": "93980ea7-bcb4-4b3b-9b99-5e190d6d32ea",
        "colab": {
          "base_uri": "https://localhost:8080/"
        }
      },
      "execution_count": 9,
      "outputs": [
        {
          "output_type": "stream",
          "name": "stdout",
          "text": [
            "Hello, Geospatial World-my name is Glen\n"
          ]
        }
      ]
    },
    {
      "cell_type": "code",
      "source": [
        "# print using number literal\n",
        "print(5)\n",
        "\n",
        "# print using arithmetic (addition)\n",
        "print(5+4)\n",
        "\n",
        "# string concatenation\n",
        "print(\"Hello\" + \" Students\")"
      ],
      "metadata": {
        "id": "oneTY4vszUnG",
        "outputId": "b4c9efc0-7d70-48ac-c658-d25c89edaee8",
        "colab": {
          "base_uri": "https://localhost:8080/"
        }
      },
      "execution_count": null,
      "outputs": [
        {
          "output_type": "stream",
          "name": "stdout",
          "text": [
            "5\n",
            "9\n",
            "Hello Students\n"
          ]
        }
      ]
    },
    {
      "cell_type": "code",
      "source": [
        "# printing with variables\n",
        "country = \"Ireland\"\n",
        "county = \"Dublin\"\n",
        "population = 1458154\n",
        "print(county, \"is the capital city of\", country, \"and the population is\", population)\n"
      ],
      "metadata": {
        "id": "84mkJST6zZgJ",
        "outputId": "675ee04a-5ebf-461e-fda5-7b1feda5c62e",
        "colab": {
          "base_uri": "https://localhost:8080/"
        }
      },
      "execution_count": null,
      "outputs": [
        {
          "output_type": "stream",
          "name": "stdout",
          "text": [
            "Dublin is the capital city of Ireland and the population is 1458154\n"
          ]
        }
      ]
    },
    {
      "cell_type": "code",
      "source": [
        "# using the end parameter\n",
        "print(\"hi, \", end=\"\")\n",
        "print(\"welcome to this course\")"
      ],
      "metadata": {
        "id": "5Z8Ugr6kzgj3",
        "outputId": "68c65cba-9d90-4564-8f3f-c5f6b245bb1d",
        "colab": {
          "base_uri": "https://localhost:8080/"
        }
      },
      "execution_count": null,
      "outputs": [
        {
          "output_type": "stream",
          "name": "stdout",
          "text": [
            "hi, welcome to this course\n"
          ]
        }
      ]
    },
    {
      "cell_type": "code",
      "source": [
        "# some more arithmetic\n",
        "print(10-2) #subtraction\n",
        "print(10/2) # division\n",
        "print(10*2) # multiplication\n",
        "print(10**2) # exponentiation"
      ],
      "metadata": {
        "id": "S1v6AqANzoWY",
        "outputId": "4d8ec503-d35d-4485-d42c-98cfba55e7e2",
        "colab": {
          "base_uri": "https://localhost:8080/"
        }
      },
      "execution_count": null,
      "outputs": [
        {
          "output_type": "stream",
          "name": "stdout",
          "text": [
            "8\n",
            "5.0\n",
            "20\n",
            "100\n"
          ]
        }
      ]
    },
    {
      "cell_type": "code",
      "source": [
        "# attempt to mix-match single and double quotes\n",
        "print(\"This will result in an error')"
      ],
      "metadata": {
        "id": "sQ8Pr2Zlz2Ff"
      },
      "execution_count": null,
      "outputs": []
    },
    {
      "cell_type": "code",
      "source": [
        "#printing expressions\n",
        "coniferous_tree_count = 347\n",
        "deciduous_tree_count = 294\n",
        "print(\"Total Tree Count:\", coniferous_tree_count + deciduous_tree_count)\n"
      ],
      "metadata": {
        "id": "8cZOQNYvz3JH",
        "colab": {
          "base_uri": "https://localhost:8080/"
        },
        "outputId": "5f2a88bf-1040-4bb1-d709-bc9ed8a70497"
      },
      "execution_count": 10,
      "outputs": [
        {
          "output_type": "stream",
          "name": "stdout",
          "text": [
            "Total Tree Count: 641\n"
          ]
        }
      ]
    },
    {
      "cell_type": "markdown",
      "source": [
        "COMMENTS"
      ],
      "metadata": {
        "id": "HP5BjAui50O4"
      }
    },
    {
      "cell_type": "code",
      "source": [
        "# this is a single line comment\n",
        "print(\"I was executed after the single line comment was ignored\")\n",
        "\n",
        "''' I am a multi\n",
        "line comment, I am also ignored by python'''\n",
        "print(\"Printed after multi-line comment\")\n",
        "\n",
        "\"\"\" I am another\n",
        "multi\n",
        "line\n",
        "comment\n",
        "\"\"\"\n",
        "\n",
        "input_fc = \"C:/path/to/fc\" # this must be a shapefile\n",
        "print(input_fc) # we printed the fc path"
      ],
      "metadata": {
        "colab": {
          "base_uri": "https://localhost:8080/"
        },
        "id": "CiB7c1pL52iz",
        "outputId": "6d2b356c-e958-49e8-a295-56766758647b"
      },
      "execution_count": 11,
      "outputs": [
        {
          "output_type": "stream",
          "name": "stdout",
          "text": [
            "I was executed after the single line comment was ignored\n",
            "Printed after multi-line comment\n",
            "C:/path/to/fc\n"
          ]
        }
      ]
    },
    {
      "cell_type": "code",
      "source": [
        "county = \"Kildare\"\n",
        "country = \"Ireland\"\n",
        "print(county, country, sep=\", \")"
      ],
      "metadata": {
        "colab": {
          "base_uri": "https://localhost:8080/"
        },
        "id": "uNbd29uU6Ju7",
        "outputId": "87f81600-d8fd-4e1d-bc52-856bc0a1aacd"
      },
      "execution_count": 15,
      "outputs": [
        {
          "output_type": "stream",
          "name": "stdout",
          "text": [
            "Kildare, Ireland\n"
          ]
        }
      ]
    },
    {
      "cell_type": "code",
      "source": [
        "county = \"Kildare\"\n",
        "country = \"Ireland\"\n",
        "''' I am a multi\n",
        "line comment, I am also ignored by python'''\n",
        "county = \"Yorkshire\"\n",
        "country = \"England\"\n",
        "\n",
        "print(county, country, sep=\", \")"
      ],
      "metadata": {
        "colab": {
          "base_uri": "https://localhost:8080/"
        },
        "id": "rGurP67V64v9",
        "outputId": "73d07178-0fe1-4f81-9257-8adf77ca5889"
      },
      "execution_count": 17,
      "outputs": [
        {
          "output_type": "stream",
          "name": "stdout",
          "text": [
            "Yorkshire, England\n"
          ]
        }
      ]
    },
    {
      "cell_type": "markdown",
      "source": [
        "LINE CONTINUATION"
      ],
      "metadata": {
        "id": "VDgqQ4vc_hJN"
      }
    },
    {
      "cell_type": "code",
      "source": [
        "expression = 5\n",
        "\n",
        "expression = (5 + 10 + 35)\n",
        "\n",
        "expression = (5 +\n",
        "              10 +\n",
        "              35)\n",
        "print(expression)"
      ],
      "metadata": {
        "colab": {
          "base_uri": "https://localhost:8080/"
        },
        "id": "wCfvCfEW-q1w",
        "outputId": "641837b3-d78e-4c5d-bbb1-e24f48a73f27"
      },
      "execution_count": 19,
      "outputs": [
        {
          "output_type": "stream",
          "name": "stdout",
          "text": [
            "50\n"
          ]
        }
      ]
    },
    {
      "cell_type": "code",
      "source": [
        "my_string = \"This is a very long string that \\\n",
        "requires me to use explicit line continuation\"\n",
        "print(my_string)"
      ],
      "metadata": {
        "colab": {
          "base_uri": "https://localhost:8080/"
        },
        "id": "jrrBuWui_6jo",
        "outputId": "569c6abd-0992-4116-b922-375b1d141f80"
      },
      "execution_count": 27,
      "outputs": [
        {
          "output_type": "stream",
          "name": "stdout",
          "text": [
            "This is a very long string that requires me to use explicit line continuation\n"
          ]
        }
      ]
    },
    {
      "cell_type": "code",
      "source": [
        "my_string = (\"This is a very long string that \"\n",
        "\"requires me to use explicit line continuation\")\n",
        "print(my_string)"
      ],
      "metadata": {
        "id": "zuhXkcpMFscA",
        "outputId": "198002cf-664a-47d6-aa42-2572652e5e4f",
        "colab": {
          "base_uri": "https://localhost:8080/"
        }
      },
      "execution_count": 29,
      "outputs": [
        {
          "output_type": "stream",
          "name": "stdout",
          "text": [
            "This is a very long string that requires me to use explicit line continuation\n"
          ]
        }
      ]
    },
    {
      "cell_type": "markdown",
      "source": [
        "INDENTATION"
      ],
      "metadata": {
        "id": "wtzaX633Hn7D"
      }
    },
    {
      "cell_type": "code",
      "source": [
        "\"\"\"In Python, indentation is a critical aspect of the syntax and is important for defining the structure of code blocks.\n",
        "Python uses indentation to indicate the grouping of statements within (for and while) loops, conditional statements (if-elif-else),\n",
        "and other control flow structures.\"\"\"\n",
        "num1 = 5\n",
        "num2 = 3\n",
        "if num1 > num2:\n",
        "    print(num1, \"is greater than\", num2)\n",
        "    print(\"If we add the numbers we get\", num1+num2)\n",
        "elif num1 < num2:\n",
        "    print(num1, \"is less than\", num2)\n",
        "    print(\"If we subtract the number we get\", num1-num2)\n",
        "else:\n",
        "    print(\"They must be equal\")\n",
        "    print(\"If we subtract the numbers we shoud get Zero\", num1-num2)\n"
      ],
      "metadata": {
        "id": "C1V9KwZqHq-g",
        "outputId": "2d59eec3-d593-4c61-c74b-65515554009a",
        "colab": {
          "base_uri": "https://localhost:8080/"
        }
      },
      "execution_count": 31,
      "outputs": [
        {
          "output_type": "stream",
          "name": "stdout",
          "text": [
            "5 is greater than 3\n",
            "If we add the numbers we get 8\n"
          ]
        }
      ]
    }
  ]
}