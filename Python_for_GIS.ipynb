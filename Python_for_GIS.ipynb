{
  "nbformat": 4,
  "nbformat_minor": 0,
  "metadata": {
    "colab": {
      "provenance": [],
      "authorship_tag": "ABX9TyNlZIFlyPMCxdNyKb5E/VfB",
      "include_colab_link": true
    },
    "kernelspec": {
      "name": "python3",
      "display_name": "Python 3"
    },
    "language_info": {
      "name": "python"
    }
  },
  "cells": [
    {
      "cell_type": "markdown",
      "metadata": {
        "id": "view-in-github",
        "colab_type": "text"
      },
      "source": [
        "<a href=\"https://colab.research.google.com/github/majaturkalj/python-journey/blob/main/Python_for_GIS.ipynb\" target=\"_parent\"><img src=\"https://colab.research.google.com/assets/colab-badge.svg\" alt=\"Open In Colab\"/></a>"
      ]
    },
    {
      "cell_type": "markdown",
      "source": [
        "VARIABLES"
      ],
      "metadata": {
        "id": "FIWNIKv2yYVJ"
      }
    },
    {
      "cell_type": "code",
      "execution_count": null,
      "metadata": {
        "id": "qcIx59T3rOf5"
      },
      "outputs": [],
      "source": [
        "#VARIABLES\n",
        "population = 5000000\n",
        "country = \"Ireland\"\n",
        "animal = \"Dog\"\n",
        "colour = \"Green\"\n",
        "\n",
        "#Assigning Multiple Variables on a Single Line\n",
        "population, country, animal, colour = 500000, \"Ireland\", \"dog\", \"Green\"\n"
      ]
    },
    {
      "cell_type": "markdown",
      "source": [
        "PRINT FUNCTION"
      ],
      "metadata": {
        "id": "2s-KhvB-yHfU"
      }
    },
    {
      "cell_type": "code",
      "source": [
        "# print using a string literal\n",
        "print(\"Hello, Geospatial World\")"
      ],
      "metadata": {
        "id": "w8-CagmtyAJN",
        "outputId": "24eec61d-eb66-4f3e-d089-0974b02c185c",
        "colab": {
          "base_uri": "https://localhost:8080/"
        }
      },
      "execution_count": 1,
      "outputs": [
        {
          "output_type": "stream",
          "name": "stdout",
          "text": [
            "Hello, Geospatial World\n"
          ]
        }
      ]
    }
  ]
}