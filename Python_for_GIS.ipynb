{
  "nbformat": 4,
  "nbformat_minor": 0,
  "metadata": {
    "colab": {
      "provenance": [],
      "authorship_tag": "ABX9TyNauCdaUc/tC9KzGmRpg8d9",
      "include_colab_link": true
    },
    "kernelspec": {
      "name": "python3",
      "display_name": "Python 3"
    },
    "language_info": {
      "name": "python"
    }
  },
  "cells": [
    {
      "cell_type": "markdown",
      "metadata": {
        "id": "view-in-github",
        "colab_type": "text"
      },
      "source": [
        "<a href=\"https://colab.research.google.com/github/majaturkalj/python-journey/blob/main/Python_for_GIS.ipynb\" target=\"_parent\"><img src=\"https://colab.research.google.com/assets/colab-badge.svg\" alt=\"Open In Colab\"/></a>"
      ]
    },
    {
      "cell_type": "markdown",
      "source": [
        "VARIABLES"
      ],
      "metadata": {
        "id": "FIWNIKv2yYVJ"
      }
    },
    {
      "cell_type": "code",
      "execution_count": null,
      "metadata": {
        "id": "qcIx59T3rOf5"
      },
      "outputs": [],
      "source": [
        "#VARIABLES\n",
        "population = 5000000\n",
        "country = \"Ireland\"\n",
        "animal = \"Dog\"\n",
        "colour = \"Green\"\n",
        "\n",
        "#Assigning Multiple Variables on a Single Line\n",
        "population, country, animal, colour = 500000, \"Ireland\", \"dog\", \"Green\"\n"
      ]
    },
    {
      "cell_type": "markdown",
      "source": [
        "PRINT FUNCTION"
      ],
      "metadata": {
        "id": "2s-KhvB-yHfU"
      }
    },
    {
      "cell_type": "code",
      "source": [
        "# print using a string literal\n",
        "print(\"Hello, Geospatial World\")"
      ],
      "metadata": {
        "colab": {
          "base_uri": "https://localhost:8080/"
        },
        "id": "w8-CagmtyAJN",
        "outputId": "24eec61d-eb66-4f3e-d089-0974b02c185c"
      },
      "execution_count": 1,
      "outputs": [
        {
          "output_type": "stream",
          "name": "stdout",
          "text": [
            "Hello, Geospatial World\n"
          ]
        }
      ]
    },
    {
      "cell_type": "code",
      "source": [
        "# use the sep parameter\n",
        "print(\"Hello, Geospatial World, my name is Glen\", sep=\"-\")\n"
      ],
      "metadata": {
        "id": "NEaS-4puy9YK",
        "outputId": "7635eb9a-eeb5-4348-8d74-f541cd8eb1d1",
        "colab": {
          "base_uri": "https://localhost:8080/"
        }
      },
      "execution_count": 2,
      "outputs": [
        {
          "output_type": "stream",
          "name": "stdout",
          "text": [
            "Hello, Geospatial World, my name is Glen\n"
          ]
        }
      ]
    },
    {
      "cell_type": "code",
      "source": [
        "# print using number literal\n",
        "print(5)\n",
        "\n",
        "# print using arithmetic (addition)\n",
        "print(5+4)\n",
        "\n",
        "# string concatenation\n",
        "print(\"Hello\" + \" Students\")"
      ],
      "metadata": {
        "id": "oneTY4vszUnG",
        "outputId": "b4c9efc0-7d70-48ac-c658-d25c89edaee8",
        "colab": {
          "base_uri": "https://localhost:8080/"
        }
      },
      "execution_count": 3,
      "outputs": [
        {
          "output_type": "stream",
          "name": "stdout",
          "text": [
            "5\n",
            "9\n",
            "Hello Students\n"
          ]
        }
      ]
    },
    {
      "cell_type": "code",
      "source": [
        "# printing with variables\n",
        "country = \"Ireland\"\n",
        "county = \"Dublin\"\n",
        "population = 1458154\n",
        "print(county, \"is the capital city of\", country, \"and the population is\", population)\n"
      ],
      "metadata": {
        "id": "84mkJST6zZgJ",
        "outputId": "675ee04a-5ebf-461e-fda5-7b1feda5c62e",
        "colab": {
          "base_uri": "https://localhost:8080/"
        }
      },
      "execution_count": 4,
      "outputs": [
        {
          "output_type": "stream",
          "name": "stdout",
          "text": [
            "Dublin is the capital city of Ireland and the population is 1458154\n"
          ]
        }
      ]
    },
    {
      "cell_type": "code",
      "source": [
        "# using the end parameter\n",
        "print(\"hi, \", end=\"\")\n",
        "print(\"welcome to this course\")"
      ],
      "metadata": {
        "id": "5Z8Ugr6kzgj3",
        "outputId": "68c65cba-9d90-4564-8f3f-c5f6b245bb1d",
        "colab": {
          "base_uri": "https://localhost:8080/"
        }
      },
      "execution_count": 5,
      "outputs": [
        {
          "output_type": "stream",
          "name": "stdout",
          "text": [
            "hi, welcome to this course\n"
          ]
        }
      ]
    },
    {
      "cell_type": "code",
      "source": [
        "# some more arithmetic\n",
        "print(10-2) #subtraction\n",
        "print(10/2) # division\n",
        "print(10*2) # multiplication\n",
        "print(10**2) # exponentiation"
      ],
      "metadata": {
        "id": "S1v6AqANzoWY",
        "outputId": "4d8ec503-d35d-4485-d42c-98cfba55e7e2",
        "colab": {
          "base_uri": "https://localhost:8080/"
        }
      },
      "execution_count": 7,
      "outputs": [
        {
          "output_type": "stream",
          "name": "stdout",
          "text": [
            "8\n",
            "5.0\n",
            "20\n",
            "100\n"
          ]
        }
      ]
    },
    {
      "cell_type": "code",
      "source": [
        "# attempt to mix-match single and double quotes\n",
        "print(\"This will result in an error')"
      ],
      "metadata": {
        "id": "sQ8Pr2Zlz2Ff"
      },
      "execution_count": null,
      "outputs": []
    },
    {
      "cell_type": "code",
      "source": [],
      "metadata": {
        "id": "8cZOQNYvz3JH"
      },
      "execution_count": null,
      "outputs": []
    }
  ]
}