{
  "nbformat": 4,
  "nbformat_minor": 0,
  "metadata": {
    "colab": {
      "provenance": [],
      "authorship_tag": "ABX9TyNlslmOHK/8Be7ntd4c+ARN",
      "include_colab_link": true
    },
    "kernelspec": {
      "name": "python3",
      "display_name": "Python 3"
    },
    "language_info": {
      "name": "python"
    }
  },
  "cells": [
    {
      "cell_type": "markdown",
      "metadata": {
        "id": "view-in-github",
        "colab_type": "text"
      },
      "source": [
        "<a href=\"https://colab.research.google.com/github/majaturkalj/python-journey/blob/main/Python_for_GIS.ipynb\" target=\"_parent\"><img src=\"https://colab.research.google.com/assets/colab-badge.svg\" alt=\"Open In Colab\"/></a>"
      ]
    },
    {
      "cell_type": "code",
      "execution_count": null,
      "metadata": {
        "id": "qcIx59T3rOf5"
      },
      "outputs": [],
      "source": [
        "#VARIABLES\n",
        "population = 5000000\n",
        "country = \"Ireland\"\n",
        "animal = \"Dog\"\n",
        "colour = \"Green\"\n",
        "\n",
        "#Assigning Multiple Variables on a Single Line\n",
        "population, country, animal, colour = 500000, \"Ireland\", \"dog\", \"Green\"\n",
        "\n",
        "#PRINT FUNCTION"
      ]
    }
  ]
}